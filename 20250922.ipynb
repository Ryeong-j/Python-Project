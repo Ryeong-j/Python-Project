{
 "cells": [
  {
   "cell_type": "markdown",
   "id": "fc9fefcb",
   "metadata": {},
   "source": [
    "## 2025-09-22"
   ]
  },
  {
   "cell_type": "code",
   "execution_count": null,
   "id": "5a2d09b8",
   "metadata": {},
   "outputs": [
    {
     "name": "stdout",
     "output_type": "stream",
     "text": [
      "       *\n",
      "      ***\n",
      "     *****\n",
      "    *******\n",
      "   *********\n",
      "  ***********\n",
      " *************\n",
      "***************\n"
     ]
    }
   ],
   "source": [
    "#가장 아래칸의 * 개수 입력\n",
    "\n",
    "n= int(input())\n",
    "\n",
    "for i in range(1, n+1, 2):\n",
    "    spaces = (n - i)//2\n",
    "    print(' ' * spaces + '*' * i)"
   ]
  },
  {
   "cell_type": "code",
   "execution_count": null,
   "id": "87087762",
   "metadata": {},
   "outputs": [
    {
     "name": "stdout",
     "output_type": "stream",
     "text": [
      "         *\n",
      "        ***\n",
      "       *****\n",
      "      *******\n",
      "     *********\n",
      "    ***********\n",
      "   ****\n"
     ]
    }
   ],
   "source": [
    "n = 40\n",
    "m = 10\n",
    "\n",
    "for i in range(1, m + 1):\n",
    "    star = min(n, 2 * i - 1)\n",
    "\n",
    "    print(' ' * (m - i) + \"*\" * star)\n",
    "    n-=star\n",
    "\n",
    "    if n <= 0:\n",
    "        break"
   ]
  },
  {
   "cell_type": "code",
   "execution_count": null,
   "id": "e67181d9",
   "metadata": {},
   "outputs": [
    {
     "name": "stdout",
     "output_type": "stream",
     "text": [
      "         *\n",
      "        ***\n",
      "       *****\n",
      "      *******\n",
      "     *********\n",
      "    ***********\n",
      "   ****\n"
     ]
    }
   ],
   "source": [
    "n = 40\n",
    "m = 10\n",
    "\n",
    "for i in range(1, m + 1):\n",
    "    if n > 2*i-1:\n",
    "        print(' ' * (m - i) + \"*\" * (2*i-1))\n",
    "    else:\n",
    "        print(' ' * (m - i) + \"*\" * n)\n",
    "        break\n",
    "        \n",
    "    n-= 2*i-1"
   ]
  },
  {
   "cell_type": "code",
   "execution_count": null,
   "id": "1a8a9e41",
   "metadata": {},
   "outputs": [],
   "source": [
    "extend()  함수\n",
    ".pop()    매서드\n",
    ".remove() 매서드\n",
    ".append() 매서드   ?\n"
   ]
  },
  {
   "cell_type": "code",
   "execution_count": null,
   "id": "e7cf0935",
   "metadata": {},
   "outputs": [],
   "source": [
    "f=['hi','hi',\"mans\"]"
   ]
  },
  {
   "cell_type": "code",
   "execution_count": null,
   "id": "6a83ade2",
   "metadata": {},
   "outputs": [],
   "source": [
    "f.remove('hi')"
   ]
  },
  {
   "cell_type": "code",
   "execution_count": null,
   "id": "6a91afa4",
   "metadata": {},
   "outputs": [
    {
     "data": {
      "text/plain": [
       "['hi']"
      ]
     },
     "metadata": {},
     "output_type": "display_data"
    }
   ],
   "source": [
    "f"
   ]
  },
  {
   "cell_type": "code",
   "execution_count": null,
   "id": "0506c453",
   "metadata": {},
   "outputs": [
    {
     "name": "stdout",
     "output_type": "stream",
     "text": [
      "<list_reverseiterator object at 0x0000015F63F01A20>\n"
     ]
    }
   ],
   "source": [
    "print(reversed(f))"
   ]
  },
  {
   "cell_type": "code",
   "execution_count": null,
   "id": "f180c408",
   "metadata": {},
   "outputs": [
    {
     "data": {
      "text/plain": [
       "['hi', 'hi', 'mans']"
      ]
     },
     "metadata": {},
     "output_type": "display_data"
    }
   ],
   "source": [
    "f"
   ]
  },
  {
   "cell_type": "code",
   "execution_count": null,
   "id": "7f8fa6dc",
   "metadata": {},
   "outputs": [],
   "source": [
    "f.reverse()"
   ]
  },
  {
   "cell_type": "code",
   "execution_count": null,
   "id": "64c40dcb",
   "metadata": {},
   "outputs": [
    {
     "data": {
      "text/plain": [
       "['mans', 'hi', 'hi']"
      ]
     },
     "metadata": {},
     "output_type": "display_data"
    }
   ],
   "source": [
    "f"
   ]
  },
  {
   "cell_type": "code",
   "execution_count": null,
   "id": "ee0e168e",
   "metadata": {},
   "outputs": [
    {
     "name": "stdout",
     "output_type": "stream",
     "text": [
      "1번 학생은 합격입니다.\n",
      "2번 학생은 불합격입니다.\n",
      "3번 학생은 합격입니다.\n",
      "4번 학생은 불합격입니다.\n",
      "5번 학생은 합격입니다.\n"
     ]
    }
   ],
   "source": [
    "score = [90, 25, 62, 45, 80]\n",
    "\n",
    "for i in range(len(score)):\n",
    "    if score[i] >= 60:\n",
    "        print(f\"{i+1}번 학생은 합격입니다.\")\n",
    "    else:\n",
    "        print(f\"{i+1}번 학생은 불합격입니다.\")"
   ]
  },
  {
   "cell_type": "code",
   "execution_count": null,
   "id": "7420f805",
   "metadata": {},
   "outputs": [
    {
     "name": "stdout",
     "output_type": "stream",
     "text": [
      "단어를 입력해주세요:\n",
      "다람쥐\n",
      "단어를 입력해주세요:\n",
      "쥐포\n",
      "단어를 입력해주세요:\n",
      "포기\n",
      "단어를 입력해주세요:\n",
      "귀찮아\n",
      "땡\n"
     ]
    }
   ],
   "source": [
    "var = \"가나다\"\n",
    "\n",
    "while True:\n",
    "    print(\"단어를 입력해주세요:\")\n",
    "    a = input()\n",
    "    print(a)\n",
    "\n",
    "    if a[0] == var[-1]:\n",
    "        var = a\n",
    "\n",
    "    else:\n",
    "        print(\"땡\")\n",
    "        break"
   ]
  },
  {
   "cell_type": "code",
   "execution_count": null,
   "id": "04399388",
   "metadata": {},
   "outputs": [
    {
     "data": {
      "text/plain": [
       "[1, 3, 0, 1]"
      ]
     },
     "metadata": {},
     "output_type": "display_data"
    }
   ],
   "source": [
    "numbers = [1,1,3,3,0,1,1]\n",
    "a = []\n",
    "\n",
    "for num in numbers:\n",
    "    if not a or a[-1] != num: \n",
    "        a.append(num)\n",
    "\n",
    "a"
   ]
  },
  {
   "cell_type": "markdown",
   "id": "ee23ca25",
   "metadata": {},
   "source": [
    "## 12번 문제"
   ]
  },
  {
   "cell_type": "code",
   "execution_count": null,
   "id": "08ab821f",
   "metadata": {},
   "outputs": [
    {
     "name": "stdout",
     "output_type": "stream",
     "text": [
      "현재 재고: [1, 1, 1, 1, 1]\n",
      "사과를 구매하셨습니다. 남은 사과의 재고: 0\n",
      "현재 재고: [0, 1, 1, 1, 1]\n",
      "바나나를 구매하셨습니다. 남은 바나나의 재고: 0\n",
      "현재 재고: [0, 0, 1, 1, 1]\n",
      "오렌지를 구매하셨습니다. 남은 오렌지의 재고: 0\n",
      "현재 재고: [0, 0, 0, 1, 1]\n",
      "포도를 구매하셨습니다. 남은 포도의 재고: 0\n",
      "현재 재고: [0, 0, 0, 0, 1]\n",
      "수박를 구매하셨습니다. 남은 수박의 재고: 0\n",
      "\n",
      "모든 과일이 팔렸습니다. 장사를 종료합니다.\n"
     ]
    }
   ],
   "source": [
    "f = ['사과', '바나나', '오렌지', '포도', '수박'] \n",
    "c = [1, 1, 1, 1, 1] \n",
    "\n",
    "while sum(c) != 0:\n",
    "    print(\"현재 재고:\", c)\n",
    "    a= input(\"어떤 과일을 구매하시겠습니까? (종료하려면 '그만'을 입력하세요):\")\n",
    "\n",
    "    c[f.index(a)] -= 1\n",
    "\n",
    "    print(f\"{a}를 구매하셨습니다. 남은 {a}의 재고: {c[f.index(a)]}\")\n",
    "\n",
    "print(\"\\n모든 과일이 팔렸습니다. 장사를 종료합니다.\")"
   ]
  },
  {
   "cell_type": "markdown",
   "id": "073601ed",
   "metadata": {},
   "source": [
    "## 12-2번 문제"
   ]
  },
  {
   "cell_type": "code",
   "execution_count": 6,
   "id": "68b74bb4",
   "metadata": {},
   "outputs": [
    {
     "data": {
      "text/plain": [
       "'값 없음'"
      ]
     },
     "execution_count": 6,
     "metadata": {},
     "output_type": "execute_result"
    }
   ],
   "source": [
    "a = {'a':1, 'b': 2, 3:'c'}\n",
    "\n",
    "a.get(2, '값 없음')"
   ]
  },
  {
   "cell_type": "code",
   "execution_count": 7,
   "id": "e7bbe892",
   "metadata": {},
   "outputs": [
    {
     "data": {
      "text/plain": [
       "1"
      ]
     },
     "execution_count": 7,
     "metadata": {},
     "output_type": "execute_result"
    }
   ],
   "source": [
    "a.pop('a')"
   ]
  },
  {
   "cell_type": "code",
   "execution_count": 11,
   "id": "b8a7005a",
   "metadata": {},
   "outputs": [
    {
     "data": {
      "text/plain": [
       "True"
      ]
     },
     "execution_count": 11,
     "metadata": {},
     "output_type": "execute_result"
    }
   ],
   "source": [
    "2 in a.values()"
   ]
  },
  {
   "cell_type": "code",
   "execution_count": 14,
   "id": "e4fb32af",
   "metadata": {},
   "outputs": [
    {
     "name": "stdout",
     "output_type": "stream",
     "text": [
      "b 2\n",
      "3 c\n"
     ]
    }
   ],
   "source": [
    "for i, j in a.items():\n",
    "    print(i, j)"
   ]
  },
  {
   "cell_type": "markdown",
   "id": "0bb1f7c9",
   "metadata": {},
   "source": [
    "## 13-2번 문제"
   ]
  },
  {
   "cell_type": "code",
   "execution_count": 15,
   "id": "a0b00c62",
   "metadata": {},
   "outputs": [],
   "source": [
    "morse = { \n",
    "\n",
    "    '.-':'a','-...':'b','-.-.':'c','-..':'d','.':'e','..-.':'f', \n",
    "\n",
    "    '--.':'g','....':'h','..':'i','.---':'j','-.-':'k','.-..':'l', \n",
    "\n",
    "    '--':'m','-.':'n','---':'o','.--.':'p','--.-':'q','.-.':'r', \n",
    "\n",
    "    '...':'s','-':'t','..-':'u','...-':'v','.--':'w','-..-':'x', \n",
    "\n",
    "    '-.--':'y','--..':'z' }"
   ]
  },
  {
   "cell_type": "code",
   "execution_count": null,
   "id": "30e8a700",
   "metadata": {},
   "outputs": [
    {
     "name": "stdout",
     "output_type": "stream",
     "text": [
      "hello"
     ]
    }
   ],
   "source": [
    "a = \".... . .-.. .-.. ---\" \n",
    "b=''\n",
    " \n",
    "for i in a.split():\n",
    "    print(morse[i], end='')"
   ]
  },
  {
   "cell_type": "code",
   "execution_count": 34,
   "id": "fb18003b",
   "metadata": {},
   "outputs": [
    {
     "data": {
      "text/plain": [
       "{'a': '.-',\n",
       " 'b': '-...',\n",
       " 'c': '-.-.',\n",
       " 'd': '-..',\n",
       " 'e': '.',\n",
       " 'f': '..-.',\n",
       " 'g': '--.',\n",
       " 'h': '....',\n",
       " 'i': '..',\n",
       " 'j': '.---',\n",
       " 'k': '-.-',\n",
       " 'l': '.-..',\n",
       " 'm': '--',\n",
       " 'n': '-.',\n",
       " 'o': '---',\n",
       " 'p': '.--.',\n",
       " 'q': '--.-',\n",
       " 'r': '.-.',\n",
       " 's': '...',\n",
       " 't': '-',\n",
       " 'u': '..-',\n",
       " 'v': '...-',\n",
       " 'w': '.--',\n",
       " 'x': '-..-',\n",
       " 'y': '-.--',\n",
       " 'z': '--..'}"
      ]
     },
     "execution_count": 34,
     "metadata": {},
     "output_type": "execute_result"
    }
   ],
   "source": [
    "swapped_dict = dict(zip(morse.values(), morse.keys()))\n",
    "\n",
    "swapped_dict"
   ]
  },
  {
   "cell_type": "code",
   "execution_count": 45,
   "id": "835f7a27",
   "metadata": {},
   "outputs": [],
   "source": [
    "s= {1,2,3,4,5}"
   ]
  },
  {
   "cell_type": "code",
   "execution_count": 46,
   "id": "a0890904",
   "metadata": {},
   "outputs": [],
   "source": [
    "s.remove(3)"
   ]
  },
  {
   "cell_type": "code",
   "execution_count": 47,
   "id": "f9a11ef6",
   "metadata": {},
   "outputs": [
    {
     "data": {
      "text/plain": [
       "{1, 2, 4, 5}"
      ]
     },
     "execution_count": 47,
     "metadata": {},
     "output_type": "execute_result"
    }
   ],
   "source": [
    "s"
   ]
  },
  {
   "cell_type": "code",
   "execution_count": 48,
   "id": "c2f1784f",
   "metadata": {},
   "outputs": [],
   "source": [
    "l = [1,2,6,8,3,34,5,6,7,4,5,6,4,5]"
   ]
  },
  {
   "cell_type": "code",
   "execution_count": 59,
   "id": "245fddd1",
   "metadata": {},
   "outputs": [
    {
     "name": "stdout",
     "output_type": "stream",
     "text": [
      "{1, 2, 3, 4, 5, 6} {3, 4} {1, 2}\n"
     ]
    }
   ],
   "source": [
    "a = {1,2,3,4}\n",
    "b = {3,4,5,6}\n",
    "\n",
    "print(a|b,\n",
    "a&b,\n",
    "a-b)"
   ]
  },
  {
   "cell_type": "code",
   "execution_count": 52,
   "id": "5147a442",
   "metadata": {},
   "outputs": [
    {
     "data": {
      "text/plain": [
       "{3, 4}"
      ]
     },
     "execution_count": 52,
     "metadata": {},
     "output_type": "execute_result"
    }
   ],
   "source": [
    "a&b"
   ]
  },
  {
   "cell_type": "code",
   "execution_count": 65,
   "id": "c73145df",
   "metadata": {},
   "outputs": [],
   "source": [
    "# 빼빼로데이\n",
    "\n",
    "# 빼빼로의 종류는 6가지 맛('누드초코', '아몬드', '초코', '크런키', '크림치즈', '화이트쿠키')이 있었습니다.\n",
    "# 이벤트 빼빼로는 한가지 맛에 하나만 구매할 수 있습니다.\n",
    "# 구매한 빼빼로를 오름차순으로 정렬하여 결과를 나타내 주세요.\n",
    "\n",
    "# 입력1\n",
    "a = [\"초코\", \"누드초코\", \"크런키\", \"아몬드\", \"초코\", \"누드초코\", \"아몬드\", \"화이트쿠키\", \"초코\", \"초코\"]\n",
    "\n",
    "# 출력1\n",
    "# ['누드초코', '아몬드', '초코', '크런키', '화이트쿠키']"
   ]
  },
  {
   "cell_type": "code",
   "execution_count": 79,
   "id": "18dd572c",
   "metadata": {},
   "outputs": [
    {
     "name": "stdout",
     "output_type": "stream",
     "text": [
      "['누드초코', '아몬드', '초코', '크런키', '화이트쿠키']\n"
     ]
    }
   ],
   "source": [
    "print(sorted(set(a)))"
   ]
  },
  {
   "cell_type": "code",
   "execution_count": null,
   "id": "f51433cd",
   "metadata": {},
   "outputs": [
    {
     "data": {
      "text/plain": [
       "['누드초코', '아몬드', '초코', '크런키', '화이트쿠키']"
      ]
     },
     "execution_count": 88,
     "metadata": {},
     "output_type": "execute_result"
    }
   ],
   "source": [
    "b=[]\n",
    "for i in a:\n",
    "    if not a or i not in b:\n",
    "        b.append(i)\n",
    "\n",
    "b"
   ]
  },
  {
   "cell_type": "code",
   "execution_count": 101,
   "id": "7ce19faa",
   "metadata": {},
   "outputs": [
    {
     "name": "stdout",
     "output_type": "stream",
     "text": [
      "7\n"
     ]
    }
   ],
   "source": [
    "a=\"culture experience symbol symbol education symbol effect education affair liberty liberty affair\"\n",
    "\n",
    "print(len(sorted(set(a.split()))))"
   ]
  },
  {
   "cell_type": "code",
   "execution_count": 122,
   "id": "0ea9d673",
   "metadata": {},
   "outputs": [
    {
     "data": {
      "text/plain": [
       "12"
      ]
     },
     "execution_count": 122,
     "metadata": {},
     "output_type": "execute_result"
    }
   ],
   "source": [
    "def num_max(a,b,c):\n",
    "    maxin = a\n",
    "    if b>maxin:\n",
    "        maxin=b\n",
    "    if c>maxin:\n",
    "        maxin=c\n",
    "    \n",
    "    return maxin\n",
    "\n",
    "num = num_max(10, 12, 7)\n",
    "num"
   ]
  },
  {
   "cell_type": "code",
   "execution_count": null,
   "id": "d702364a",
   "metadata": {},
   "outputs": [
    {
     "data": {
      "text/plain": [
       "24"
      ]
     },
     "execution_count": 127,
     "metadata": {},
     "output_type": "execute_result"
    }
   ],
   "source": [
    "def num_min(a):\n",
    "    m = a[0]\n",
    "    for i in a:\n",
    "        if i < m:\n",
    "            m = i\n",
    "    return m\n",
    "\n",
    "    # return sorted(a)[0]\n",
    "\n",
    "testArray = [52, 273, 32, 103, 275, 24, 57]\n",
    "num_min(testArray)"
   ]
  },
  {
   "cell_type": "code",
   "execution_count": 132,
   "id": "6fcb2031",
   "metadata": {},
   "outputs": [
    {
     "data": {
      "text/plain": [
       "False"
      ]
     },
     "execution_count": 132,
     "metadata": {},
     "output_type": "execute_result"
    }
   ],
   "source": [
    "def ily(a):\n",
    "    if a % 4 ==0:\n",
    "        return True\n",
    "    else:\n",
    "        return False\n",
    "\n",
    "num = ily(2010)\n",
    "num"
   ]
  },
  {
   "cell_type": "markdown",
   "id": "94fab880",
   "metadata": {},
   "source": []
  },
  {
   "cell_type": "code",
   "execution_count": 133,
   "id": "931c8133",
   "metadata": {},
   "outputs": [
    {
     "ename": "TypeError",
     "evalue": "aa() takes 1 positional argument but 2 were given",
     "output_type": "error",
     "traceback": [
      "\u001b[31m---------------------------------------------------------------------------\u001b[39m",
      "\u001b[31mTypeError\u001b[39m                                 Traceback (most recent call last)",
      "\u001b[36mCell\u001b[39m\u001b[36m \u001b[39m\u001b[32mIn[133]\u001b[39m\u001b[32m, line 4\u001b[39m\n\u001b[32m      1\u001b[39m \u001b[38;5;28;01mdef\u001b[39;00m\u001b[38;5;250m \u001b[39m\u001b[34maa\u001b[39m(a):\n\u001b[32m      2\u001b[39m     \u001b[38;5;28mprint\u001b[39m(a)\n\u001b[32m----> \u001b[39m\u001b[32m4\u001b[39m n=\u001b[43maa\u001b[49m\u001b[43m(\u001b[49m\u001b[33;43m\"\u001b[39;49m\u001b[33;43mehloefj\u001b[39;49m\u001b[33;43m\"\u001b[39;49m\u001b[43m,\u001b[49m\u001b[43m \u001b[49m\u001b[33;43m\"\u001b[39;49m\u001b[33;43mejdf\u001b[39;49m\u001b[33;43m\"\u001b[39;49m\u001b[43m)\u001b[49m\n\u001b[32m      5\u001b[39m n\n",
      "\u001b[31mTypeError\u001b[39m: aa() takes 1 positional argument but 2 were given"
     ]
    }
   ],
   "source": [
    "def aa(a):\n",
    "    print(a)\n",
    "\n",
    "n=aa(\"ehloefj\", \"ejdf\")\n",
    "n"
   ]
  },
  {
   "cell_type": "code",
   "execution_count": 138,
   "id": "20364390",
   "metadata": {},
   "outputs": [
    {
     "name": "stdout",
     "output_type": "stream",
     "text": [
      "eh //fej\n"
     ]
    }
   ],
   "source": [
    "print('eh','fej',sep=' //')"
   ]
  },
  {
   "cell_type": "code",
   "execution_count": 140,
   "id": "5b60fd09",
   "metadata": {},
   "outputs": [
    {
     "name": "stdout",
     "output_type": "stream",
     "text": [
      "dumy (1, 2, 3, 'dum', 4, 5, 6, 7)\n"
     ]
    }
   ],
   "source": [
    "def kamy (c, *a):\n",
    "    print(c, a)\n",
    "\n",
    "kamy('dumy',1,2,3,'dum',4,5,6,7)"
   ]
  },
  {
   "cell_type": "code",
   "execution_count": null,
   "id": "8eed0fe6",
   "metadata": {},
   "outputs": [],
   "source": []
  }
 ],
 "metadata": {
  "kernelspec": {
   "display_name": "Python 3",
   "language": "python",
   "name": "python3"
  },
  "language_info": {
   "codemirror_mode": {
    "name": "ipython",
    "version": 3
   },
   "file_extension": ".py",
   "mimetype": "text/x-python",
   "name": "python",
   "nbconvert_exporter": "python",
   "pygments_lexer": "ipython3",
   "version": "3.11.8"
  }
 },
 "nbformat": 4,
 "nbformat_minor": 5
}
