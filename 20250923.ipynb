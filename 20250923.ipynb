{
 "cells": [
  {
   "cell_type": "code",
   "execution_count": 18,
   "id": "57fa43d5",
   "metadata": {},
   "outputs": [
    {
     "name": "stdout",
     "output_type": "stream",
     "text": [
      "(0, 'banana')\n",
      "(1, 'apple')\n"
     ]
    }
   ],
   "source": [
    "a=['banana', 'apple']\n",
    "\n",
    "for i in enumerate(a):\n",
    "    print(i)"
   ]
  },
  {
   "cell_type": "code",
   "execution_count": 19,
   "id": "2c1199aa",
   "metadata": {},
   "outputs": [
    {
     "ename": "AttributeError",
     "evalue": "'list' object has no attribute 'map'",
     "output_type": "error",
     "traceback": [
      "\u001b[31m---------------------------------------------------------------------------\u001b[39m",
      "\u001b[31mAttributeError\u001b[39m                            Traceback (most recent call last)",
      "\u001b[36mCell\u001b[39m\u001b[36m \u001b[39m\u001b[32mIn[19]\u001b[39m\u001b[32m, line 3\u001b[39m\n\u001b[32m      1\u001b[39m a=[\u001b[32m1\u001b[39m,\u001b[32m2\u001b[39m,\u001b[32m3\u001b[39m,\u001b[32m4\u001b[39m,\u001b[32m5\u001b[39m]\n\u001b[32m----> \u001b[39m\u001b[32m3\u001b[39m \u001b[43ma\u001b[49m\u001b[43m.\u001b[49m\u001b[43mmap\u001b[49m()\n",
      "\u001b[31mAttributeError\u001b[39m: 'list' object has no attribute 'map'"
     ]
    }
   ],
   "source": [
    "a=[1,2,3,4,5]\n",
    "\n",
    "a.map()"
   ]
  },
  {
   "cell_type": "code",
   "execution_count": null,
   "id": "bc057f3c",
   "metadata": {},
   "outputs": [
    {
     "name": "stdout",
     "output_type": "stream",
     "text": [
      "[1, 4, 9, 16]\n"
     ]
    }
   ],
   "source": [
    "num = [1,2,3,4]\n",
    "squared = map(lambda x: x**2, num)\n",
    "print(list(squared))"
   ]
  },
  {
   "cell_type": "code",
   "execution_count": null,
   "id": "430eaa5e",
   "metadata": {},
   "outputs": [
    {
     "name": "stdout",
     "output_type": "stream",
     "text": [
      "[2, 4, 6]\n"
     ]
    }
   ],
   "source": [
    "num = [1,2,3,4,5,6]\n",
    "even = list(filter(lambda x: x % 2==0, num))\n",
    "print(even)"
   ]
  },
  {
   "cell_type": "code",
   "execution_count": null,
   "id": "995b11ef",
   "metadata": {},
   "outputs": [
    {
     "name": "stdout",
     "output_type": "stream",
     "text": [
      "[(5, 1), (1, 2), (3, 4)]\n"
     ]
    }
   ],
   "source": [
    "p = [(1,2), (3,4), (5,1)]\n",
    "\n",
    "sp = sorted(p, key= lambda x: x[1])\n",
    "print(sp)"
   ]
  },
  {
   "cell_type": "code",
   "execution_count": null,
   "id": "c529c063",
   "metadata": {},
   "outputs": [],
   "source": [
    "[[80, 70], [90, 50], [40, 70], [50, 80]] -> [1, 2, 4, 3] \n",
    "\n",
    "[[80, 70], [70, 80], [30, 50], [90, 100], [100, 90], [100, 100], [10, 30]] -> [4, 4, 6, 2, 2, 1, 7] "
   ]
  },
  {
   "cell_type": "code",
   "execution_count": null,
   "id": "46575b55",
   "metadata": {},
   "outputs": [],
   "source": [
    "mat = [[80, 70], [90, 50], [40, 70], [50, 80]]\n",
    "eng = [[80, 70], [70, 80], [30, 50], [90, 100], [100, 90], [100, 100], [10, 30]]"
   ]
  },
  {
   "cell_type": "code",
   "execution_count": null,
   "id": "1c0640fb",
   "metadata": {},
   "outputs": [
    {
     "data": {
      "text/plain": [
       "[4, 4, 6, 2, 2, 1, 7]"
      ]
     },
     "metadata": {},
     "output_type": "display_data"
    }
   ],
   "source": [
    "def rank(score):\n",
    "    a=[]\n",
    "    b=[]\n",
    "    for i, j in score:\n",
    "        a.append((i + j)/2)\n",
    "\n",
    "    aa = sorted(a, reverse=True)\n",
    "\n",
    "    for k in a:\n",
    "        b.append(aa.index(k)+1)\n",
    "\n",
    "    return b\n",
    "\n",
    "rank(eng)"
   ]
  },
  {
   "cell_type": "code",
   "execution_count": null,
   "id": "a6b31d90",
   "metadata": {},
   "outputs": [
    {
     "data": {
      "text/plain": [
       "[True, True, False, True, False, True, False, False]"
      ]
     },
     "metadata": {},
     "output_type": "display_data"
    }
   ],
   "source": [
    "#소수 판별 함수\n",
    "\n",
    "a= [2,3,4,5,6,7,8,9]\n",
    "\n",
    "def isprime(aa):\n",
    "    bb=[]\n",
    "    cc=[]\n",
    "    for i in aa:\n",
    "        for j in range(2, i+1):\n",
    "            if i % j==0:\n",
    "                bb.append(j)\n",
    "\n",
    "        if len(bb)<=1:\n",
    "            cc.append(True)\n",
    "        else:\n",
    "            cc.append(False)\n",
    "        bb=[]\n",
    "\n",
    "    return cc\n",
    "\n",
    "isprime(a)"
   ]
  },
  {
   "cell_type": "code",
   "execution_count": null,
   "id": "eae5bb94",
   "metadata": {},
   "outputs": [],
   "source": [
    "def ana(anagram, a, sw=True):\n",
    "    b=[' ' for i in range(len(a))]\n",
    "\n",
    "    if sw:\n",
    "        for i in range(len(a)):\n",
    "            b[anagram[i]]=a[i]      \n",
    "        \n",
    "    else:\n",
    "        return a\n",
    "    \n",
    "    return ''.join(b)"
   ]
  },
  {
   "cell_type": "code",
   "execution_count": null,
   "id": "e57fb751",
   "metadata": {},
   "outputs": [
    {
     "data": {
      "text/plain": [
       "'lleoh'"
      ]
     },
     "metadata": {},
     "output_type": "display_data"
    }
   ],
   "source": [
    "anagram = [4, 2, 0, 1, 3]\n",
    "ana(anagram,'hello')"
   ]
  },
  {
   "cell_type": "code",
   "execution_count": null,
   "id": "67a9bf05",
   "metadata": {},
   "outputs": [
    {
     "name": "stdout",
     "output_type": "stream",
     "text": [
      "[22, 27, 30, 16, 34, 23]\n"
     ]
    }
   ],
   "source": [
    "# 행운숫자 뽑기\n",
    "import random\n",
    "\n",
    "c = []\n",
    "while len(c) < 6:\n",
    "    num = random.randint(1, 45)\n",
    "    if num not in c:\n",
    "        c.append(num)\n",
    "\n",
    "print(c)"
   ]
  },
  {
   "cell_type": "code",
   "execution_count": null,
   "id": "618c0c7b",
   "metadata": {},
   "outputs": [],
   "source": [
    "sel = ['가위', '바위', '보']\n",
    "\n",
    "def checkWin():\n",
    "\n",
    "def continueComfirm():\n",
    "\n",
    "\n",
    "while True:\n",
    "    user = input('가위, 바위, 보:')\n",
    "    com = sel[random.randint(0, 2)]\n",
    "\n",
    "    if checkWin(user,com):\n",
    "        if continueComfirm():\n",
    "            continue\n",
    "        else:\n",
    "            break"
   ]
  },
  {
   "cell_type": "markdown",
   "id": "0acf11a3",
   "metadata": {},
   "source": [
    "## 사용자 정의 모듈 가져오기"
   ]
  },
  {
   "cell_type": "code",
   "execution_count": 42,
   "id": "07a55417",
   "metadata": {},
   "outputs": [],
   "source": [
    "import mymodule as mm\n",
    "# from mymodule import my_add"
   ]
  },
  {
   "cell_type": "code",
   "execution_count": 43,
   "id": "2fd8ebdc",
   "metadata": {},
   "outputs": [
    {
     "name": "stdout",
     "output_type": "stream",
     "text": [
      "10\n",
      "-2\n"
     ]
    }
   ],
   "source": [
    "print(mm.my_add(7, 3))\n",
    "print(mm.my_sub(3,5))"
   ]
  },
  {
   "cell_type": "code",
   "execution_count": 12,
   "id": "cd87a0f4",
   "metadata": {},
   "outputs": [
    {
     "data": {
      "text/plain": [
       "'__main__'"
      ]
     },
     "execution_count": 12,
     "metadata": {},
     "output_type": "execute_result"
    }
   ],
   "source": [
    "__name__"
   ]
  },
  {
   "cell_type": "code",
   "execution_count": 29,
   "id": "93a00303",
   "metadata": {},
   "outputs": [],
   "source": [
    "class Person:\n",
    "    def __init__(self, name, age):\n",
    "        self.name = name\n",
    "        self.age = age\n",
    "\n",
    "    def walk(self):\n",
    "        print(f'{self.name}이 걸어가요')"
   ]
  },
  {
   "cell_type": "code",
   "execution_count": 31,
   "id": "68c5738d",
   "metadata": {},
   "outputs": [],
   "source": [
    "person1 = Person(\"정성령\", 23)"
   ]
  },
  {
   "cell_type": "code",
   "execution_count": 39,
   "id": "b7617e9d",
   "metadata": {},
   "outputs": [
    {
     "name": "stdout",
     "output_type": "stream",
     "text": [
      "정성령이 걸어가요\n"
     ]
    }
   ],
   "source": [
    "person1.walk()"
   ]
  },
  {
   "cell_type": "code",
   "execution_count": 36,
   "id": "e0f04c6b",
   "metadata": {},
   "outputs": [],
   "source": [
    "class NewPerson(Person):\n",
    "    def fly(self):\n",
    "        print(f'{self.name}이 하늘을 날아요')\n",
    "    def walk(self):\n",
    "        print(f'{self.name}이 너무 잘 걸어요')"
   ]
  },
  {
   "cell_type": "code",
   "execution_count": 37,
   "id": "348f66f6",
   "metadata": {},
   "outputs": [],
   "source": [
    "person3 = NewPerson(\"정호석\", 33)\n"
   ]
  },
  {
   "cell_type": "code",
   "execution_count": 38,
   "id": "0398084d",
   "metadata": {},
   "outputs": [
    {
     "name": "stdout",
     "output_type": "stream",
     "text": [
      "정호석이 너무 잘 걸어요\n"
     ]
    }
   ],
   "source": [
    "person3.walk()"
   ]
  },
  {
   "cell_type": "code",
   "execution_count": 35,
   "id": "202efb90",
   "metadata": {},
   "outputs": [
    {
     "name": "stdout",
     "output_type": "stream",
     "text": [
      "정호석이 하늘을 날아요\n"
     ]
    }
   ],
   "source": [
    "person3.fly()"
   ]
  },
  {
   "cell_type": "code",
   "execution_count": 45,
   "id": "a93900f0",
   "metadata": {},
   "outputs": [],
   "source": [
    "# 결제 시스템\n",
    "\n",
    "def pay_credit(card_info, amount):\n",
    "    \"\"\" 신용카드 결제 로직 \"\"\"\n",
    "    print(f\"{card_info['card_number']}카드로 {amount}원 결제합니다.\")\n",
    "    print(\"결제 완료\")\n",
    "\n",
    "def pay_point(point_wallet, amount):\n",
    "    if point_wallet['balance'] >= amount:\n",
    "        point_wallet['balance'] -= amount\n",
    "        print(f\"포인트 {amount}점을 사용해서 결제하였습니다.\")\n",
    "    else:\n",
    "        print(\"포인트가 부족합니다.\")\n"
   ]
  },
  {
   "cell_type": "code",
   "execution_count": 50,
   "id": "c0510e73",
   "metadata": {},
   "outputs": [],
   "source": [
    "credit_card = {\n",
    "    'type':'credit_card',\n",
    "    'card_number': '1234-5678-xxxx',\n",
    "    'cvc' : 123,\n",
    "}\n",
    "\n",
    "my_point = {\n",
    "    'type':'point_wallet',\n",
    "    'balance':50000\n",
    "}"
   ]
  },
  {
   "cell_type": "code",
   "execution_count": null,
   "id": "f4985441",
   "metadata": {},
   "outputs": [],
   "source": [
    "def payment(payment_method, amount):\n",
    "    payment_type = payment_method['type']\n",
    "\n",
    "    if payment_type == 'credit_card':\n",
    "        pay_credit(payment_method, amount)\n",
    "    elif payment_type == 'point_wallet':\n",
    "        pay_point(payment_method, amount)\n",
    "    else:\n",
    "        print(\"지원되지 않는 결제방식\")"
   ]
  },
  {
   "cell_type": "code",
   "execution_count": 56,
   "id": "86d7f3cd",
   "metadata": {},
   "outputs": [
    {
     "name": "stdout",
     "output_type": "stream",
     "text": [
      "{'type': 'credit_card', 'card_number': '1234-5678-xxxx', 'cvc': 123}\n",
      "1234-5678-xxxx카드로 2500원 결제합니다.\n",
      "결제 완료\n",
      "{'type': 'point_wallet', 'balance': 50000}\n",
      "포인트 10000점을 사용해서 결제하였습니다.\n",
      "{'type': 'point_wallet', 'balance': 40000}\n",
      "포인트가 부족합니다.\n"
     ]
    }
   ],
   "source": [
    "payment(credit_card, 2500)\n",
    "payment(my_point, 10000)\n",
    "payment(my_point, 50000)"
   ]
  },
  {
   "cell_type": "code",
   "execution_count": null,
   "id": "472ce322",
   "metadata": {},
   "outputs": [],
   "source": [
    "class PaymentMethod:\n",
    "    def pay(self, )"
   ]
  },
  {
   "cell_type": "code",
   "execution_count": 57,
   "id": "e00b22ac",
   "metadata": {},
   "outputs": [
    {
     "name": "stdout",
     "output_type": "stream",
     "text": [
      "Requirement already satisfied: numpy in c:\\users\\user\\appdata\\local\\programs\\python\\python311\\lib\\site-packages (2.3.3)\n",
      "Note: you may need to restart the kernel to use updated packages.\n"
     ]
    },
    {
     "name": "stderr",
     "output_type": "stream",
     "text": [
      "\n",
      "[notice] A new release of pip is available: 24.0 -> 25.2\n",
      "[notice] To update, run: python.exe -m pip install --upgrade pip\n"
     ]
    }
   ],
   "source": [
    "pip install numpy"
   ]
  },
  {
   "cell_type": "code",
   "execution_count": 59,
   "id": "7d28f49d",
   "metadata": {},
   "outputs": [
    {
     "name": "stdout",
     "output_type": "stream",
     "text": [
      "Collecting beautifulsoup4\n",
      "  Downloading beautifulsoup4-4.13.5-py3-none-any.whl.metadata (3.8 kB)\n",
      "Collecting soupsieve>1.2 (from beautifulsoup4)\n",
      "  Downloading soupsieve-2.8-py3-none-any.whl.metadata (4.6 kB)\n",
      "Requirement already satisfied: typing-extensions>=4.0.0 in c:\\users\\user\\appdata\\roaming\\python\\python311\\site-packages (from beautifulsoup4) (4.15.0)\n",
      "Downloading beautifulsoup4-4.13.5-py3-none-any.whl (105 kB)\n",
      "   ---------------------------------------- 0.0/105.1 kB ? eta -:--:--\n",
      "   ---------------------------------------- 0.0/105.1 kB ? eta -:--:--\n",
      "   --- ------------------------------------ 10.2/105.1 kB ? eta -:--:--\n",
      "   --------------- ----------------------- 41.0/105.1 kB 495.5 kB/s eta 0:00:01\n",
      "   -------------------------------------- 105.1/105.1 kB 870.4 kB/s eta 0:00:00\n",
      "Downloading soupsieve-2.8-py3-none-any.whl (36 kB)\n",
      "Installing collected packages: soupsieve, beautifulsoup4\n",
      "Successfully installed beautifulsoup4-4.13.5 soupsieve-2.8\n"
     ]
    },
    {
     "name": "stderr",
     "output_type": "stream",
     "text": [
      "\n",
      "[notice] A new release of pip is available: 24.0 -> 25.2\n",
      "[notice] To update, run: python.exe -m pip install --upgrade pip\n"
     ]
    }
   ],
   "source": [
    "!pip install beautifulsoup4"
   ]
  },
  {
   "cell_type": "code",
   "execution_count": 61,
   "id": "43fe4d7f",
   "metadata": {},
   "outputs": [],
   "source": [
    "from bs4 import BeautifulSoup"
   ]
  },
  {
   "cell_type": "code",
   "execution_count": 63,
   "id": "3ba58dc8",
   "metadata": {},
   "outputs": [
    {
     "name": "stdout",
     "output_type": "stream",
     "text": [
      "hello\n"
     ]
    }
   ],
   "source": [
    "print('hello')"
   ]
  },
  {
   "cell_type": "code",
   "execution_count": null,
   "id": "fba67957",
   "metadata": {},
   "outputs": [],
   "source": []
  }
 ],
 "metadata": {
  "language_info": {
   "name": "python"
  }
 },
 "nbformat": 4,
 "nbformat_minor": 5
}
