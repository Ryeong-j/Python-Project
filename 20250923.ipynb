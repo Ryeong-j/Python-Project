{
 "cells": [
  {
   "cell_type": "code",
   "execution_count": 18,
   "id": "57fa43d5",
   "metadata": {},
   "outputs": [
    {
     "name": "stdout",
     "output_type": "stream",
     "text": [
      "(0, 'banana')\n",
      "(1, 'apple')\n"
     ]
    }
   ],
   "source": [
    "a=['banana', 'apple']\n",
    "\n",
    "for i in enumerate(a):\n",
    "    print(i)"
   ]
  },
  {
   "cell_type": "code",
   "execution_count": 19,
   "id": "2c1199aa",
   "metadata": {},
   "outputs": [
    {
     "ename": "AttributeError",
     "evalue": "'list' object has no attribute 'map'",
     "output_type": "error",
     "traceback": [
      "\u001b[31m---------------------------------------------------------------------------\u001b[39m",
      "\u001b[31mAttributeError\u001b[39m                            Traceback (most recent call last)",
      "\u001b[36mCell\u001b[39m\u001b[36m \u001b[39m\u001b[32mIn[19]\u001b[39m\u001b[32m, line 3\u001b[39m\n\u001b[32m      1\u001b[39m a=[\u001b[32m1\u001b[39m,\u001b[32m2\u001b[39m,\u001b[32m3\u001b[39m,\u001b[32m4\u001b[39m,\u001b[32m5\u001b[39m]\n\u001b[32m----> \u001b[39m\u001b[32m3\u001b[39m \u001b[43ma\u001b[49m\u001b[43m.\u001b[49m\u001b[43mmap\u001b[49m()\n",
      "\u001b[31mAttributeError\u001b[39m: 'list' object has no attribute 'map'"
     ]
    }
   ],
   "source": [
    "a=[1,2,3,4,5]\n",
    "\n",
    "a.map()"
   ]
  },
  {
   "cell_type": "code",
   "execution_count": null,
   "id": "bc057f3c",
   "metadata": {},
   "outputs": [
    {
     "name": "stdout",
     "output_type": "stream",
     "text": [
      "[1, 4, 9, 16]\n"
     ]
    }
   ],
   "source": [
    "num = [1,2,3,4]\n",
    "squared = map(lambda x: x**2, num)\n",
    "print(list(squared))"
   ]
  },
  {
   "cell_type": "code",
   "execution_count": null,
   "id": "430eaa5e",
   "metadata": {},
   "outputs": [
    {
     "name": "stdout",
     "output_type": "stream",
     "text": [
      "[2, 4, 6]\n"
     ]
    }
   ],
   "source": [
    "num = [1,2,3,4,5,6]\n",
    "even = list(filter(lambda x: x % 2==0, num))\n",
    "print(even)"
   ]
  },
  {
   "cell_type": "code",
   "execution_count": null,
   "id": "995b11ef",
   "metadata": {},
   "outputs": [
    {
     "name": "stdout",
     "output_type": "stream",
     "text": [
      "[(5, 1), (1, 2), (3, 4)]\n"
     ]
    }
   ],
   "source": [
    "p = [(1,2), (3,4), (5,1)]\n",
    "\n",
    "sp = sorted(p, key= lambda x: x[1])\n",
    "print(sp)"
   ]
  },
  {
   "cell_type": "code",
   "execution_count": null,
   "id": "c529c063",
   "metadata": {},
   "outputs": [],
   "source": [
    "[[80, 70], [90, 50], [40, 70], [50, 80]] -> [1, 2, 4, 3] \n",
    "\n",
    "[[80, 70], [70, 80], [30, 50], [90, 100], [100, 90], [100, 100], [10, 30]] -> [4, 4, 6, 2, 2, 1, 7] "
   ]
  },
  {
   "cell_type": "code",
   "execution_count": null,
   "id": "46575b55",
   "metadata": {},
   "outputs": [],
   "source": [
    "mat = [[80, 70], [90, 50], [40, 70], [50, 80]]\n",
    "eng = [[80, 70], [70, 80], [30, 50], [90, 100], [100, 90], [100, 100], [10, 30]]"
   ]
  },
  {
   "cell_type": "code",
   "execution_count": null,
   "id": "1c0640fb",
   "metadata": {},
   "outputs": [
    {
     "data": {
      "text/plain": [
       "[4, 4, 6, 2, 2, 1, 7]"
      ]
     },
     "metadata": {},
     "output_type": "display_data"
    }
   ],
   "source": [
    "def rank(score):\n",
    "    a=[]\n",
    "    b=[]\n",
    "    for i, j in score:\n",
    "        a.append((i + j)/2)\n",
    "\n",
    "    aa = sorted(a, reverse=True)\n",
    "\n",
    "    for k in a:\n",
    "        b.append(aa.index(k)+1)\n",
    "\n",
    "    return b\n",
    "\n",
    "rank(eng)"
   ]
  },
  {
   "cell_type": "code",
   "execution_count": null,
   "id": "a6b31d90",
   "metadata": {},
   "outputs": [
    {
     "data": {
      "text/plain": [
       "[True, True, False, True, False, True, False, False]"
      ]
     },
     "metadata": {},
     "output_type": "display_data"
    }
   ],
   "source": [
    "#소수 판별 함수\n",
    "\n",
    "a= [2,3,4,5,6,7,8,9]\n",
    "\n",
    "def isprime(aa):\n",
    "    bb=[]\n",
    "    cc=[]\n",
    "    for i in aa:\n",
    "        for j in range(2, i+1):\n",
    "            if i % j==0:\n",
    "                bb.append(j)\n",
    "\n",
    "        if len(bb)<=1:\n",
    "            cc.append(True)\n",
    "        else:\n",
    "            cc.append(False)\n",
    "        bb=[]\n",
    "\n",
    "    return cc\n",
    "\n",
    "isprime(a)"
   ]
  },
  {
   "cell_type": "code",
   "execution_count": null,
   "id": "eae5bb94",
   "metadata": {},
   "outputs": [],
   "source": [
    "def ana(anagram, a, sw=True):\n",
    "    b=[' ' for i in range(len(a))]\n",
    "\n",
    "    if sw:\n",
    "        for i in range(len(a)):\n",
    "            b[anagram[i]]=a[i]      \n",
    "        \n",
    "    else:\n",
    "        return a\n",
    "    \n",
    "    return ''.join(b)"
   ]
  },
  {
   "cell_type": "code",
   "execution_count": null,
   "id": "e57fb751",
   "metadata": {},
   "outputs": [
    {
     "data": {
      "text/plain": [
       "'lleoh'"
      ]
     },
     "metadata": {},
     "output_type": "display_data"
    }
   ],
   "source": [
    "anagram = [4, 2, 0, 1, 3]\n",
    "ana(anagram,'hello')"
   ]
  },
  {
   "cell_type": "code",
   "execution_count": null,
   "id": "67a9bf05",
   "metadata": {},
   "outputs": [
    {
     "name": "stdout",
     "output_type": "stream",
     "text": [
      "[22, 27, 30, 16, 34, 23]\n"
     ]
    }
   ],
   "source": [
    "# 행운숫자 뽑기\n",
    "import random\n",
    "\n",
    "c = []\n",
    "while len(c) < 6:\n",
    "    num = random.randint(1, 45)\n",
    "    if num not in c:\n",
    "        c.append(num)\n",
    "\n",
    "print(c)"
   ]
  },
  {
   "cell_type": "code",
   "execution_count": null,
   "id": "618c0c7b",
   "metadata": {},
   "outputs": [],
   "source": [
    "sel = ['가위', '바위', '보']\n",
    "\n",
    "def checkWin():\n",
    "\n",
    "def continueComfirm():\n",
    "\n",
    "\n",
    "while True:\n",
    "    user = input('가위, 바위, 보:')\n",
    "    com = sel[random.randint(0, 2)]\n",
    "\n",
    "    if checkWin(user,com):\n",
    "        if continueComfirm():\n",
    "            continue\n",
    "        else:\n",
    "            break"
   ]
  },
  {
   "cell_type": "markdown",
   "id": "0acf11a3",
   "metadata": {},
   "source": [
    "## 사용자 정의 모듈 가져오기"
   ]
  },
  {
   "cell_type": "code",
   "execution_count": 30,
   "id": "07a55417",
   "metadata": {},
   "outputs": [
    {
     "ename": "ImportError",
     "evalue": "cannot import name 'my_add' from 'mymodule' (c:\\Users\\USER\\Desktop\\Python-Project\\mymodule.py)",
     "output_type": "error",
     "traceback": [
      "\u001b[31m---------------------------------------------------------------------------\u001b[39m",
      "\u001b[31mImportError\u001b[39m                               Traceback (most recent call last)",
      "\u001b[36mCell\u001b[39m\u001b[36m \u001b[39m\u001b[32mIn[30]\u001b[39m\u001b[32m, line 2\u001b[39m\n\u001b[32m      1\u001b[39m \u001b[38;5;28;01mimport\u001b[39;00m\u001b[38;5;250m \u001b[39m\u001b[34;01mmymodule\u001b[39;00m\u001b[38;5;250m \u001b[39m\u001b[38;5;28;01mas\u001b[39;00m\u001b[38;5;250m \u001b[39m\u001b[34;01mmm\u001b[39;00m\n\u001b[32m----> \u001b[39m\u001b[32m2\u001b[39m \u001b[38;5;28;01mfrom\u001b[39;00m\u001b[38;5;250m \u001b[39m\u001b[34;01mmymodule\u001b[39;00m\u001b[38;5;250m \u001b[39m\u001b[38;5;28;01mimport\u001b[39;00m my_add\n",
      "\u001b[31mImportError\u001b[39m: cannot import name 'my_add' from 'mymodule' (c:\\Users\\USER\\Desktop\\Python-Project\\mymodule.py)"
     ]
    }
   ],
   "source": [
    "import mymodule as mm\n",
    "from mymodule import my_add"
   ]
  },
  {
   "cell_type": "code",
   "execution_count": 29,
   "id": "2fd8ebdc",
   "metadata": {},
   "outputs": [
    {
     "ename": "AttributeError",
     "evalue": "module 'mymodule' has no attribute 'my_add'",
     "output_type": "error",
     "traceback": [
      "\u001b[31m---------------------------------------------------------------------------\u001b[39m",
      "\u001b[31mAttributeError\u001b[39m                            Traceback (most recent call last)",
      "\u001b[36mCell\u001b[39m\u001b[36m \u001b[39m\u001b[32mIn[29]\u001b[39m\u001b[32m, line 1\u001b[39m\n\u001b[32m----> \u001b[39m\u001b[32m1\u001b[39m \u001b[38;5;28mprint\u001b[39m(\u001b[43mmm\u001b[49m\u001b[43m.\u001b[49m\u001b[43mmy_add\u001b[49m(\u001b[32m7\u001b[39m, \u001b[32m3\u001b[39m))\n",
      "\u001b[31mAttributeError\u001b[39m: module 'mymodule' has no attribute 'my_add'"
     ]
    }
   ],
   "source": [
    "print(mm.my_add(7, 3))"
   ]
  },
  {
   "cell_type": "code",
   "execution_count": null,
   "id": "875e558c",
   "metadata": {},
   "outputs": [],
   "source": []
  },
  {
   "cell_type": "code",
   "execution_count": null,
   "id": "bbf6e8da",
   "metadata": {},
   "outputs": [],
   "source": []
  }
 ],
 "metadata": {
  "language_info": {
   "name": "python"
  }
 },
 "nbformat": 4,
 "nbformat_minor": 5
}
