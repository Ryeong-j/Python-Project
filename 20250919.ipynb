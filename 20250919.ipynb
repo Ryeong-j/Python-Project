{
 "cells": [
  {
   "cell_type": "markdown",
   "id": "4f193ed0",
   "metadata": {},
   "source": [
    "# 2025-09-19"
   ]
  },
  {
   "cell_type": "code",
   "execution_count": 1,
   "id": "20a52f1c",
   "metadata": {},
   "outputs": [
    {
     "name": "stdout",
     "output_type": "stream",
     "text": [
      "hello ms\n"
     ]
    }
   ],
   "source": [
    "print(\"hello ms\")"
   ]
  },
  {
   "cell_type": "code",
   "execution_count": 2,
   "id": "7a7eea75",
   "metadata": {},
   "outputs": [
    {
     "name": "stdout",
     "output_type": "stream",
     "text": [
      "안녕 이제 파이썬을 시작하려고 해\n"
     ]
    }
   ],
   "source": [
    "print(\"안녕 이제 파이썬을 시작하려고 해\")"
   ]
  },
  {
   "cell_type": "code",
   "execution_count": 9,
   "id": "0751ab69",
   "metadata": {},
   "outputs": [
    {
     "data": {
      "text/plain": [
       "1.1"
      ]
     },
     "execution_count": 9,
     "metadata": {},
     "output_type": "execute_result"
    }
   ],
   "source": [
    "0.1+1"
   ]
  },
  {
   "cell_type": "code",
   "execution_count": null,
   "id": "1ce113a2",
   "metadata": {},
   "outputs": [],
   "source": []
  },
  {
   "cell_type": "code",
   "execution_count": 17,
   "id": "3df18854",
   "metadata": {},
   "outputs": [
    {
     "name": "stdout",
     "output_type": "stream",
     "text": [
      "15 9 36 4\n"
     ]
    }
   ],
   "source": [
    "num1, num2=int(input()), int(input())\n",
    "print(num1+num2, num1-num2, num1*num2, int(num1/num2))"
   ]
  },
  {
   "cell_type": "code",
   "execution_count": 18,
   "id": "888c45fe",
   "metadata": {},
   "outputs": [
    {
     "data": {
      "text/plain": [
       "3"
      ]
     },
     "execution_count": 18,
     "metadata": {},
     "output_type": "execute_result"
    }
   ],
   "source": [
    "int(3.6)"
   ]
  },
  {
   "cell_type": "code",
   "execution_count": 22,
   "id": "26122870",
   "metadata": {},
   "outputs": [
    {
     "name": "stdout",
     "output_type": "stream",
     "text": [
      "wrong\n"
     ]
    }
   ],
   "source": [
    "if False == 1:\n",
    "    print(\"correct\")\n",
    "else: \n",
    "    print(\"wrong\")"
   ]
  },
  {
   "cell_type": "code",
   "execution_count": 23,
   "id": "7414ae32",
   "metadata": {},
   "outputs": [
    {
     "name": "stdout",
     "output_type": "stream",
     "text": [
      "False\n"
     ]
    }
   ],
   "source": [
    "print((3>5) and (3>0))"
   ]
  },
  {
   "cell_type": "code",
   "execution_count": 25,
   "id": "6f315954",
   "metadata": {},
   "outputs": [
    {
     "name": "stdout",
     "output_type": "stream",
     "text": [
      "True\n"
     ]
    }
   ],
   "source": [
    "print(not(5>9))"
   ]
  },
  {
   "cell_type": "code",
   "execution_count": 27,
   "id": "c7610e08",
   "metadata": {},
   "outputs": [
    {
     "name": "stdout",
     "output_type": "stream",
     "text": [
      "너\"바보\"야?\n"
     ]
    }
   ],
   "source": [
    "print('너\"바보\"야?')"
   ]
  },
  {
   "cell_type": "code",
   "execution_count": 39,
   "id": "f6b38999",
   "metadata": {},
   "outputs": [
    {
     "name": "stdout",
     "output_type": "stream",
     "text": [
      "'낮말'은 새가 듣고 '밤말'은 쥐가 듣는다.\n"
     ]
    }
   ],
   "source": [
    "print(\"'낮말'은 새가 듣고 '밤말'은 쥐가 듣는다.\")"
   ]
  },
  {
   "cell_type": "code",
   "execution_count": 40,
   "id": "384e64d2",
   "metadata": {},
   "outputs": [
    {
     "name": "stdout",
     "output_type": "stream",
     "text": [
      "1\n",
      "2\n"
     ]
    }
   ],
   "source": [
    "print(1)\n",
    "print(2)"
   ]
  },
  {
   "cell_type": "code",
   "execution_count": 42,
   "id": "21a5f3fa",
   "metadata": {},
   "outputs": [
    {
     "name": "stdout",
     "output_type": "stream",
     "text": [
      "12\n"
     ]
    }
   ],
   "source": [
    "print(1, end='')\n",
    "print(2)"
   ]
  },
  {
   "cell_type": "code",
   "execution_count": null,
   "id": "b82d87fc",
   "metadata": {},
   "outputs": [
    {
     "name": "stdout",
     "output_type": "stream",
     "text": [
      "지불하실 금액은 17500 원 입니다.\n"
     ]
    }
   ],
   "source": [
    "김밥 = 3000\n",
    "떡볶이 = 3500\n",
    "라면 = 2500\n",
    "\n",
    "김, 떡, 라=map(int, input().split())\n",
    "\n",
    "print(\"지불하실 금액은\", 라면*라+떡볶이*떡+김밥*김, '원 입니다.')"
   ]
  },
  {
   "cell_type": "code",
   "execution_count": null,
   "id": "f8221c05",
   "metadata": {},
   "outputs": [
    {
     "name": "stdout",
     "output_type": "stream",
     "text": [
      "안녕 35야\n"
     ]
    }
   ],
   "source": [
    "i=35.23415\n",
    "print(f\"안녕 {i}야\")\n"
   ]
  },
  {
   "cell_type": "code",
   "execution_count": 53,
   "id": "9c8f49d8",
   "metadata": {},
   "outputs": [
    {
     "name": "stdout",
     "output_type": "stream",
     "text": [
      "안녕 35.00\n"
     ]
    }
   ],
   "source": [
    "print(\"안녕 %.2f\" %i)"
   ]
  },
  {
   "cell_type": "code",
   "execution_count": 57,
   "id": "9dcf999f",
   "metadata": {},
   "outputs": [
    {
     "name": "stdout",
     "output_type": "stream",
     "text": [
      "안녕 4.14\n"
     ]
    }
   ],
   "source": [
    "i = 3.14159\n",
    "print(f\"안녕 {i+1:.2f}\")"
   ]
  },
  {
   "cell_type": "code",
   "execution_count": 63,
   "id": "ec78da9c",
   "metadata": {},
   "outputs": [
    {
     "name": "stdout",
     "output_type": "stream",
     "text": [
      "3628800\n"
     ]
    }
   ],
   "source": [
    "a = 1\n",
    "for i in range(1, 11):\n",
    "    a*=i\n",
    "\n",
    "print(a)"
   ]
  },
  {
   "cell_type": "code",
   "execution_count": 67,
   "id": "148f8788",
   "metadata": {},
   "outputs": [
    {
     "name": "stdout",
     "output_type": "stream",
     "text": [
      "3 * 1 = 3\n",
      "3 * 2 = 6\n",
      "3 * 3 = 9\n",
      "3 * 4 = 12\n",
      "3 * 5 = 15\n",
      "3 * 6 = 18\n",
      "3 * 7 = 21\n",
      "3 * 8 = 24\n",
      "3 * 9 = 27\n"
     ]
    }
   ],
   "source": [
    "a = int(input())\n",
    "\n",
    "for i in range(1, 10):\n",
    "    print(f\"{a} * {i} = {a*i}\")"
   ]
  },
  {
   "cell_type": "code",
   "execution_count": 76,
   "id": "108ed6cd",
   "metadata": {},
   "outputs": [
    {
     "name": "stdout",
     "output_type": "stream",
     "text": [
      "15 120\n"
     ]
    }
   ],
   "source": [
    "i = int(input())\n",
    "a = 1\n",
    "b = 0\n",
    "while a <= i:\n",
    "    b+=a\n",
    "    a+=1\n",
    "print(i, b)"
   ]
  },
  {
   "cell_type": "code",
   "execution_count": 75,
   "id": "9f9a90d0",
   "metadata": {},
   "outputs": [
    {
     "name": "stdout",
     "output_type": "stream",
     "text": [
      "4 * 1 = 4\n",
      "4 * 2 = 8\n",
      "4 * 3 = 12\n",
      "4 * 4 = 16\n",
      "4 * 5 = 20\n",
      "4 * 6 = 24\n",
      "4 * 7 = 28\n",
      "4 * 8 = 32\n",
      "4 * 9 = 36\n"
     ]
    }
   ],
   "source": [
    "a = int(input())\n",
    "i = 1\n",
    "while i <= 9:\n",
    "    print(f\"{a} * {i} = {a*i}\")\n",
    "    i+=1"
   ]
  },
  {
   "cell_type": "code",
   "execution_count": 82,
   "id": "be310c71",
   "metadata": {},
   "outputs": [
    {
     "name": "stdout",
     "output_type": "stream",
     "text": [
      "6 21\n"
     ]
    }
   ],
   "source": [
    "sum = 1\n",
    "i=1\n",
    "while sum<20:\n",
    "    i+=1\n",
    "    sum+=i\n",
    "\n",
    "print(i, sum)"
   ]
  },
  {
   "cell_type": "code",
   "execution_count": 80,
   "id": "e8f9f174",
   "metadata": {},
   "outputs": [
    {
     "name": "stdout",
     "output_type": "stream",
     "text": [
      "6 21\n"
     ]
    }
   ],
   "source": [
    "sum = 0\n",
    "i = 1\n",
    "while i <= 10:\n",
    "    sum+=i\n",
    "    if sum >=20:\n",
    "        print(i, sum)\n",
    "        break\n",
    "    else:\n",
    "        i+=1"
   ]
  },
  {
   "cell_type": "code",
   "execution_count": 2,
   "id": "bd65f252",
   "metadata": {},
   "outputs": [],
   "source": [
    "import random"
   ]
  },
  {
   "cell_type": "code",
   "execution_count": 4,
   "id": "0236415e",
   "metadata": {},
   "outputs": [
    {
     "name": "stdout",
     "output_type": "stream",
     "text": [
      "1부터 100까지의 숫자를 맞춰주세요\n",
      "답보다 커요\n",
      "답보다 커요\n",
      "답보다 작아요\n",
      "답보다 커요\n",
      "답보다 커요\n",
      "답보다 커요\n",
      "정답입니다\n"
     ]
    }
   ],
   "source": [
    "answer=random.randint(1, 100)\n",
    "\n",
    "print(f\"1부터 100까지의 숫자를 맞춰주세요\")\n",
    "\n",
    "while True:\n",
    "    a= int(input(\"입력해주세요:\"))\n",
    "    if answer>a:\n",
    "        print(\"답보다 작아요\")\n",
    "    elif answer<a:\n",
    "        print(\"답보다 커요\")\n",
    "    else:\n",
    "        print(\"정답입니다\")\n",
    "        break"
   ]
  },
  {
   "cell_type": "markdown",
   "id": "a49bd868",
   "metadata": {},
   "source": [
    "## 1번 문제"
   ]
  },
  {
   "cell_type": "code",
   "execution_count": 7,
   "id": "08a50741",
   "metadata": {},
   "outputs": [
    {
     "name": "stdout",
     "output_type": "stream",
     "text": [
      "절사처리 후: 12345600\n"
     ]
    }
   ],
   "source": [
    "pay = 12345678\n",
    "\n",
    "print(f\"절사처리 후: {pay//100*100}\")"
   ]
  },
  {
   "cell_type": "markdown",
   "id": "877f3657",
   "metadata": {},
   "source": [
    "## 2번 문제"
   ]
  },
  {
   "cell_type": "code",
   "execution_count": 54,
   "id": "d1859fe0",
   "metadata": {},
   "outputs": [
    {
     "name": "stdout",
     "output_type": "stream",
     "text": [
      "7\n"
     ]
    }
   ],
   "source": [
    "a = str(4759380347825)\n",
    "b = 4\n",
    "c = a[-b]\n",
    "print(c)"
   ]
  },
  {
   "cell_type": "markdown",
   "id": "d729359f",
   "metadata": {},
   "source": [
    "## 3번 문제"
   ]
  },
  {
   "cell_type": "code",
   "execution_count": 15,
   "id": "f641d6d3",
   "metadata": {},
   "outputs": [
    {
     "name": "stdout",
     "output_type": "stream",
     "text": [
      "삼각형의 넓이: 9.0\n"
     ]
    }
   ],
   "source": [
    "a, b= map(int, input().split())\n",
    "\n",
    "print(f\"삼각형의 넓이: {a * b / 2}\")"
   ]
  },
  {
   "cell_type": "markdown",
   "id": "c6f21738",
   "metadata": {},
   "source": [
    "## 4번 문제"
   ]
  },
  {
   "cell_type": "code",
   "execution_count": 17,
   "id": "b3b9f588",
   "metadata": {},
   "outputs": [
    {
     "name": "stdout",
     "output_type": "stream",
     "text": [
      "10\n"
     ]
    }
   ],
   "source": [
    "n = int(input())\n",
    "a=0\n",
    "for i in range(n+1):\n",
    "    a+=i\n",
    "\n",
    "print(a)"
   ]
  },
  {
   "cell_type": "markdown",
   "id": "874a8875",
   "metadata": {},
   "source": [
    "## 5번 문제"
   ]
  },
  {
   "cell_type": "code",
   "execution_count": 21,
   "id": "547f9274",
   "metadata": {},
   "outputs": [
    {
     "name": "stdout",
     "output_type": "stream",
     "text": [
      "5\n",
      "11111"
     ]
    }
   ],
   "source": [
    "num1, num2 = map(int, input().split())\n",
    "\n",
    "print(num1 * num2)\n",
    "for i in range(num2):\n",
    "    print(num1, end = \"\")"
   ]
  },
  {
   "cell_type": "markdown",
   "id": "17b7d7c3",
   "metadata": {},
   "source": [
    "## 6번 문제"
   ]
  },
  {
   "cell_type": "code",
   "execution_count": 22,
   "id": "533f238e",
   "metadata": {},
   "outputs": [
    {
     "name": "stdout",
     "output_type": "stream",
     "text": [
      "홀수\n"
     ]
    }
   ],
   "source": [
    "number = int(input())\n",
    "\n",
    "if number % 2 == 0:\n",
    "    print(\"짝수\")\n",
    "else:\n",
    "    print(\"홀수\")"
   ]
  },
  {
   "cell_type": "markdown",
   "id": "1b612621",
   "metadata": {},
   "source": [
    "## 7번 문제"
   ]
  },
  {
   "cell_type": "code",
   "execution_count": 25,
   "id": "f88fe303",
   "metadata": {},
   "outputs": [
    {
     "name": "stdout",
     "output_type": "stream",
     "text": [
      "B\n",
      "85\n"
     ]
    }
   ],
   "source": [
    "score = int(input())\n",
    "\n",
    "if score >= 90:\n",
    "    print(\"A\")\n",
    "elif score >= 80:\n",
    "    print(\"B\")\n",
    "elif score >= 70:\n",
    "    print(\"C\")\n",
    "elif score >= 60:\n",
    "    print(\"D\")\n",
    "else:\n",
    "    print(\"F\")\n",
    "\n",
    "print(score)"
   ]
  },
  {
   "cell_type": "markdown",
   "id": "53e5a92c",
   "metadata": {},
   "source": [
    "## 8-1번 문제"
   ]
  },
  {
   "cell_type": "code",
   "execution_count": 27,
   "id": "e8eb4dd5",
   "metadata": {},
   "outputs": [
    {
     "name": "stdout",
     "output_type": "stream",
     "text": [
      "enemy kill hero\n"
     ]
    }
   ],
   "source": [
    "hero, enemy = map(int, input().split())\n",
    "\n",
    "if hero*2 >= enemy:\n",
    "    print(\"hero kills enemy\")\n",
    "else:\n",
    "    print(\"enemy kill hero\")"
   ]
  },
  {
   "cell_type": "markdown",
   "id": "1f41580d",
   "metadata": {},
   "source": [
    "## 8-2번 문제"
   ]
  },
  {
   "cell_type": "code",
   "execution_count": 31,
   "id": "6b39b9f6",
   "metadata": {},
   "outputs": [
    {
     "name": "stdout",
     "output_type": "stream",
     "text": [
      "0\n",
      "1\n",
      "2\n",
      "짝\n",
      "4\n",
      "5\n",
      "짝\n",
      "7\n",
      "8\n",
      "짝\n",
      "10\n",
      "11\n",
      "12\n",
      "짝\n",
      "14\n",
      "15\n",
      "짝\n",
      "17\n",
      "18\n",
      "짝\n",
      "20\n"
     ]
    }
   ],
   "source": [
    "end = int(input())\n",
    "\n",
    "for i in range(end+1):\n",
    "    if i % 10 == 3 or i % 10 == 6 or i % 10 == 9:\n",
    "        print(\"짝\")\n",
    "    else: \n",
    "        print(i)\n"
   ]
  },
  {
   "cell_type": "markdown",
   "id": "4e7b2a5b",
   "metadata": {},
   "source": [
    "## 9번 문제"
   ]
  },
  {
   "cell_type": "code",
   "execution_count": 32,
   "id": "0a8d457f",
   "metadata": {},
   "outputs": [
    {
     "name": "stdout",
     "output_type": "stream",
     "text": [
      "2 * 1 = 2\n",
      "2 * 2 = 4\n",
      "2 * 3 = 6\n",
      "2 * 4 = 8\n",
      "2 * 5 = 10\n",
      "2 * 6 = 12\n",
      "2 * 7 = 14\n",
      "2 * 8 = 16\n",
      "2 * 9 = 18\n",
      "3 * 1 = 3\n",
      "3 * 2 = 6\n",
      "3 * 3 = 9\n",
      "3 * 4 = 12\n",
      "3 * 5 = 15\n",
      "3 * 6 = 18\n",
      "3 * 7 = 21\n",
      "3 * 8 = 24\n",
      "3 * 9 = 27\n",
      "4 * 1 = 4\n",
      "4 * 2 = 8\n",
      "4 * 3 = 12\n",
      "4 * 4 = 16\n",
      "4 * 5 = 20\n",
      "4 * 6 = 24\n",
      "4 * 7 = 28\n",
      "4 * 8 = 32\n",
      "4 * 9 = 36\n",
      "5 * 1 = 5\n",
      "5 * 2 = 10\n",
      "5 * 3 = 15\n",
      "5 * 4 = 20\n",
      "5 * 5 = 25\n",
      "5 * 6 = 30\n",
      "5 * 7 = 35\n",
      "5 * 8 = 40\n",
      "5 * 9 = 45\n",
      "6 * 1 = 6\n",
      "6 * 2 = 12\n",
      "6 * 3 = 18\n",
      "6 * 4 = 24\n",
      "6 * 5 = 30\n",
      "6 * 6 = 36\n",
      "6 * 7 = 42\n",
      "6 * 8 = 48\n",
      "6 * 9 = 54\n",
      "7 * 1 = 7\n",
      "7 * 2 = 14\n",
      "7 * 3 = 21\n",
      "7 * 4 = 28\n",
      "7 * 5 = 35\n",
      "7 * 6 = 42\n",
      "7 * 7 = 49\n",
      "7 * 8 = 56\n",
      "7 * 9 = 63\n",
      "8 * 1 = 8\n",
      "8 * 2 = 16\n",
      "8 * 3 = 24\n",
      "8 * 4 = 32\n",
      "8 * 5 = 40\n",
      "8 * 6 = 48\n",
      "8 * 7 = 56\n",
      "8 * 8 = 64\n",
      "8 * 9 = 72\n",
      "9 * 1 = 9\n",
      "9 * 2 = 18\n",
      "9 * 3 = 27\n",
      "9 * 4 = 36\n",
      "9 * 5 = 45\n",
      "9 * 6 = 54\n",
      "9 * 7 = 63\n",
      "9 * 8 = 72\n",
      "9 * 9 = 81\n"
     ]
    }
   ],
   "source": [
    "for i in range(2, 10):\n",
    "    for j in range(1, 10):\n",
    "        print(f\"{i} * {j} = {i*j}\")"
   ]
  },
  {
   "cell_type": "markdown",
   "id": "cd53c9e2",
   "metadata": {},
   "source": [
    "## 10번 문제"
   ]
  },
  {
   "cell_type": "code",
   "execution_count": 36,
   "id": "b3b1eedb",
   "metadata": {},
   "outputs": [
    {
     "name": "stdout",
     "output_type": "stream",
     "text": [
      "******\n",
      "******\n",
      "******\n",
      "******\n"
     ]
    }
   ],
   "source": [
    "a, b = map(int, input().split())\n",
    "\n",
    "for i in range(b):\n",
    "    print('*' * a)\n",
    "        "
   ]
  },
  {
   "cell_type": "markdown",
   "id": "ecbf0eb4",
   "metadata": {},
   "source": [
    "## 11번 문제"
   ]
  },
  {
   "cell_type": "code",
   "execution_count": 42,
   "id": "0e56f394",
   "metadata": {},
   "outputs": [
    {
     "name": "stdout",
     "output_type": "stream",
     "text": [
      "토마토 우영우 기러기 역삼역\n"
     ]
    }
   ],
   "source": [
    "string = \"역삼역 기러기 우영우 토마토\" \n",
    "\n",
    "print(string[::-1]) "
   ]
  },
  {
   "cell_type": "markdown",
   "id": "7670b3fe",
   "metadata": {},
   "source": [
    "## 수업 문제들"
   ]
  },
  {
   "cell_type": "code",
   "execution_count": 39,
   "id": "5dda4170",
   "metadata": {},
   "outputs": [
    {
     "name": "stdout",
     "output_type": "stream",
     "text": [
      "1 2 4 7 8 11 13 14 16 17 19 "
     ]
    }
   ],
   "source": [
    "for i in range(20):\n",
    "    if i % 3 == 0 or i % 5 == 0:\n",
    "        continue\n",
    "    else:\n",
    "        print(i, end=' ')"
   ]
  },
  {
   "cell_type": "code",
   "execution_count": null,
   "id": "cf5e6fda",
   "metadata": {},
   "outputs": [],
   "source": []
  },
  {
   "cell_type": "code",
   "execution_count": null,
   "id": "2ef53eb3",
   "metadata": {},
   "outputs": [],
   "source": []
  }
 ],
 "metadata": {
  "kernelspec": {
   "display_name": "Python 3",
   "language": "python",
   "name": "python3"
  },
  "language_info": {
   "codemirror_mode": {
    "name": "ipython",
    "version": 3
   },
   "file_extension": ".py",
   "mimetype": "text/x-python",
   "name": "python",
   "nbconvert_exporter": "python",
   "pygments_lexer": "ipython3",
   "version": "3.11.8"
  }
 },
 "nbformat": 4,
 "nbformat_minor": 5
}
