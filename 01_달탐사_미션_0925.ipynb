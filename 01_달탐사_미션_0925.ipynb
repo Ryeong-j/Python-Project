{
 "cells": [
  {
   "cell_type": "code",
   "execution_count": 122,
   "id": "09001959",
   "metadata": {},
   "outputs": [],
   "source": [
    "import pandas as pd"
   ]
  },
  {
   "cell_type": "code",
   "execution_count": 123,
   "id": "d3273c54",
   "metadata": {},
   "outputs": [],
   "source": [
    "rock_samples = pd.read_csv(\"data/rocksamples.csv\")"
   ]
  },
  {
   "cell_type": "code",
   "execution_count": 124,
   "id": "25b87bca",
   "metadata": {},
   "outputs": [
    {
     "name": "stdout",
     "output_type": "stream",
     "text": [
      "<class 'pandas.core.frame.DataFrame'>\n",
      "RangeIndex: 2229 entries, 0 to 2228\n",
      "Data columns (total 6 columns):\n",
      " #   Column        Non-Null Count  Dtype  \n",
      "---  ------        --------------  -----  \n",
      " 0   ID            2229 non-null   int64  \n",
      " 1   Mission       2229 non-null   object \n",
      " 2   Type          2229 non-null   object \n",
      " 3   Subtype       2226 non-null   object \n",
      " 4   Weight (g)    2229 non-null   float64\n",
      " 5   Pristine (%)  2229 non-null   float64\n",
      "dtypes: float64(2), int64(1), object(3)\n",
      "memory usage: 104.6+ KB\n"
     ]
    }
   ],
   "source": [
    "rock_samples.info()"
   ]
  },
  {
   "cell_type": "code",
   "execution_count": 125,
   "id": "7088bf54",
   "metadata": {},
   "outputs": [
    {
     "data": {
      "text/html": [
       "<div>\n",
       "<style scoped>\n",
       "    .dataframe tbody tr th:only-of-type {\n",
       "        vertical-align: middle;\n",
       "    }\n",
       "\n",
       "    .dataframe tbody tr th {\n",
       "        vertical-align: top;\n",
       "    }\n",
       "\n",
       "    .dataframe thead th {\n",
       "        text-align: right;\n",
       "    }\n",
       "</style>\n",
       "<table border=\"1\" class=\"dataframe\">\n",
       "  <thead>\n",
       "    <tr style=\"text-align: right;\">\n",
       "      <th></th>\n",
       "      <th>ID</th>\n",
       "      <th>Weight (g)</th>\n",
       "      <th>Pristine (%)</th>\n",
       "    </tr>\n",
       "  </thead>\n",
       "  <tbody>\n",
       "    <tr>\n",
       "      <th>count</th>\n",
       "      <td>2229.000000</td>\n",
       "      <td>2229.000000</td>\n",
       "      <td>2229.000000</td>\n",
       "    </tr>\n",
       "    <tr>\n",
       "      <th>mean</th>\n",
       "      <td>52058.432032</td>\n",
       "      <td>168.253024</td>\n",
       "      <td>84.512764</td>\n",
       "    </tr>\n",
       "    <tr>\n",
       "      <th>std</th>\n",
       "      <td>26207.651471</td>\n",
       "      <td>637.286458</td>\n",
       "      <td>22.057299</td>\n",
       "    </tr>\n",
       "    <tr>\n",
       "      <th>min</th>\n",
       "      <td>10001.000000</td>\n",
       "      <td>0.000000</td>\n",
       "      <td>0.000000</td>\n",
       "    </tr>\n",
       "    <tr>\n",
       "      <th>25%</th>\n",
       "      <td>15437.000000</td>\n",
       "      <td>3.000000</td>\n",
       "      <td>80.010000</td>\n",
       "    </tr>\n",
       "    <tr>\n",
       "      <th>50%</th>\n",
       "      <td>65527.000000</td>\n",
       "      <td>10.200000</td>\n",
       "      <td>92.300000</td>\n",
       "    </tr>\n",
       "    <tr>\n",
       "      <th>75%</th>\n",
       "      <td>72142.000000</td>\n",
       "      <td>93.490000</td>\n",
       "      <td>98.140000</td>\n",
       "    </tr>\n",
       "    <tr>\n",
       "      <th>max</th>\n",
       "      <td>79537.000000</td>\n",
       "      <td>11729.000000</td>\n",
       "      <td>180.000000</td>\n",
       "    </tr>\n",
       "  </tbody>\n",
       "</table>\n",
       "</div>"
      ],
      "text/plain": [
       "                 ID    Weight (g)  Pristine (%)\n",
       "count   2229.000000   2229.000000   2229.000000\n",
       "mean   52058.432032    168.253024     84.512764\n",
       "std    26207.651471    637.286458     22.057299\n",
       "min    10001.000000      0.000000      0.000000\n",
       "25%    15437.000000      3.000000     80.010000\n",
       "50%    65527.000000     10.200000     92.300000\n",
       "75%    72142.000000     93.490000     98.140000\n",
       "max    79537.000000  11729.000000    180.000000"
      ]
     },
     "execution_count": 125,
     "metadata": {},
     "output_type": "execute_result"
    }
   ],
   "source": [
    "rock_samples.describe()"
   ]
  },
  {
   "cell_type": "code",
   "execution_count": 126,
   "id": "47b5cad2",
   "metadata": {},
   "outputs": [
    {
     "data": {
      "text/html": [
       "<div>\n",
       "<style scoped>\n",
       "    .dataframe tbody tr th:only-of-type {\n",
       "        vertical-align: middle;\n",
       "    }\n",
       "\n",
       "    .dataframe tbody tr th {\n",
       "        vertical-align: top;\n",
       "    }\n",
       "\n",
       "    .dataframe thead th {\n",
       "        text-align: right;\n",
       "    }\n",
       "</style>\n",
       "<table border=\"1\" class=\"dataframe\">\n",
       "  <thead>\n",
       "    <tr style=\"text-align: right;\">\n",
       "      <th></th>\n",
       "      <th>ID</th>\n",
       "      <th>Mission</th>\n",
       "      <th>Type</th>\n",
       "      <th>Subtype</th>\n",
       "      <th>Weight (g)</th>\n",
       "      <th>Pristine (%)</th>\n",
       "    </tr>\n",
       "  </thead>\n",
       "  <tbody>\n",
       "    <tr>\n",
       "      <th>0</th>\n",
       "      <td>10001</td>\n",
       "      <td>Apollo11</td>\n",
       "      <td>Soil</td>\n",
       "      <td>Unsieved</td>\n",
       "      <td>125.8</td>\n",
       "      <td>88.36</td>\n",
       "    </tr>\n",
       "    <tr>\n",
       "      <th>1</th>\n",
       "      <td>10002</td>\n",
       "      <td>Apollo11</td>\n",
       "      <td>Soil</td>\n",
       "      <td>Unsieved</td>\n",
       "      <td>5629.0</td>\n",
       "      <td>93.73</td>\n",
       "    </tr>\n",
       "    <tr>\n",
       "      <th>2</th>\n",
       "      <td>10003</td>\n",
       "      <td>Apollo11</td>\n",
       "      <td>Basalt</td>\n",
       "      <td>Ilmenite</td>\n",
       "      <td>213.0</td>\n",
       "      <td>65.56</td>\n",
       "    </tr>\n",
       "    <tr>\n",
       "      <th>3</th>\n",
       "      <td>10004</td>\n",
       "      <td>Apollo11</td>\n",
       "      <td>Core</td>\n",
       "      <td>Unsieved</td>\n",
       "      <td>44.8</td>\n",
       "      <td>71.76</td>\n",
       "    </tr>\n",
       "    <tr>\n",
       "      <th>4</th>\n",
       "      <td>10005</td>\n",
       "      <td>Apollo11</td>\n",
       "      <td>Core</td>\n",
       "      <td>Unsieved</td>\n",
       "      <td>53.4</td>\n",
       "      <td>40.31</td>\n",
       "    </tr>\n",
       "  </tbody>\n",
       "</table>\n",
       "</div>"
      ],
      "text/plain": [
       "      ID   Mission    Type   Subtype  Weight (g)  Pristine (%)\n",
       "0  10001  Apollo11    Soil  Unsieved       125.8         88.36\n",
       "1  10002  Apollo11    Soil  Unsieved      5629.0         93.73\n",
       "2  10003  Apollo11  Basalt  Ilmenite       213.0         65.56\n",
       "3  10004  Apollo11    Core  Unsieved        44.8         71.76\n",
       "4  10005  Apollo11    Core  Unsieved        53.4         40.31"
      ]
     },
     "execution_count": 126,
     "metadata": {},
     "output_type": "execute_result"
    }
   ],
   "source": [
    "rock_samples.head()"
   ]
  },
  {
   "cell_type": "code",
   "execution_count": 127,
   "id": "e3d30412",
   "metadata": {},
   "outputs": [
    {
     "data": {
      "text/html": [
       "<div>\n",
       "<style scoped>\n",
       "    .dataframe tbody tr th:only-of-type {\n",
       "        vertical-align: middle;\n",
       "    }\n",
       "\n",
       "    .dataframe tbody tr th {\n",
       "        vertical-align: top;\n",
       "    }\n",
       "\n",
       "    .dataframe thead th {\n",
       "        text-align: right;\n",
       "    }\n",
       "</style>\n",
       "<table border=\"1\" class=\"dataframe\">\n",
       "  <thead>\n",
       "    <tr style=\"text-align: right;\">\n",
       "      <th></th>\n",
       "      <th>ID</th>\n",
       "      <th>Mission</th>\n",
       "      <th>Type</th>\n",
       "      <th>Subtype</th>\n",
       "      <th>Weight (g)</th>\n",
       "      <th>Pristine (%)</th>\n",
       "    </tr>\n",
       "  </thead>\n",
       "  <tbody>\n",
       "    <tr>\n",
       "      <th>1443</th>\n",
       "      <td>68841</td>\n",
       "      <td>Apollo16</td>\n",
       "      <td>Soil</td>\n",
       "      <td>&lt;1mm</td>\n",
       "      <td>266.60</td>\n",
       "      <td>93.27</td>\n",
       "    </tr>\n",
       "    <tr>\n",
       "      <th>1571</th>\n",
       "      <td>71048</td>\n",
       "      <td>Apollo17</td>\n",
       "      <td>Basalt</td>\n",
       "      <td>Ilmenite</td>\n",
       "      <td>2.46</td>\n",
       "      <td>73.55</td>\n",
       "    </tr>\n",
       "    <tr>\n",
       "      <th>565</th>\n",
       "      <td>15470</td>\n",
       "      <td>Apollo15</td>\n",
       "      <td>Soil</td>\n",
       "      <td>Unsieved</td>\n",
       "      <td>82.20</td>\n",
       "      <td>97.82</td>\n",
       "    </tr>\n",
       "    <tr>\n",
       "      <th>1586</th>\n",
       "      <td>71085</td>\n",
       "      <td>Apollo17</td>\n",
       "      <td>Basalt</td>\n",
       "      <td>Ilmenite</td>\n",
       "      <td>3.40</td>\n",
       "      <td>87.60</td>\n",
       "    </tr>\n",
       "    <tr>\n",
       "      <th>1933</th>\n",
       "      <td>76036</td>\n",
       "      <td>Apollo17</td>\n",
       "      <td>Breccia</td>\n",
       "      <td>ImpactMelt</td>\n",
       "      <td>3.95</td>\n",
       "      <td>100.00</td>\n",
       "    </tr>\n",
       "    <tr>\n",
       "      <th>129</th>\n",
       "      <td>12070</td>\n",
       "      <td>Apollo12</td>\n",
       "      <td>Soil</td>\n",
       "      <td>Unsieved</td>\n",
       "      <td>1102.00</td>\n",
       "      <td>80.24</td>\n",
       "    </tr>\n",
       "    <tr>\n",
       "      <th>725</th>\n",
       "      <td>60051</td>\n",
       "      <td>Apollo16</td>\n",
       "      <td>Soil</td>\n",
       "      <td>&lt;1mm</td>\n",
       "      <td>195.30</td>\n",
       "      <td>89.25</td>\n",
       "    </tr>\n",
       "    <tr>\n",
       "      <th>210</th>\n",
       "      <td>14175</td>\n",
       "      <td>Apollo14</td>\n",
       "      <td>Breccia</td>\n",
       "      <td>Fragmental</td>\n",
       "      <td>7.48</td>\n",
       "      <td>92.91</td>\n",
       "    </tr>\n",
       "    <tr>\n",
       "      <th>125</th>\n",
       "      <td>12062</td>\n",
       "      <td>Apollo12</td>\n",
       "      <td>Basalt</td>\n",
       "      <td>Ilmenite</td>\n",
       "      <td>738.70</td>\n",
       "      <td>97.52</td>\n",
       "    </tr>\n",
       "  </tbody>\n",
       "</table>\n",
       "</div>"
      ],
      "text/plain": [
       "         ID   Mission     Type     Subtype  Weight (g)  Pristine (%)\n",
       "1443  68841  Apollo16     Soil        <1mm      266.60         93.27\n",
       "1571  71048  Apollo17   Basalt    Ilmenite        2.46         73.55\n",
       "565   15470  Apollo15     Soil    Unsieved       82.20         97.82\n",
       "1586  71085  Apollo17   Basalt    Ilmenite        3.40         87.60\n",
       "1933  76036  Apollo17  Breccia  ImpactMelt        3.95        100.00\n",
       "129   12070  Apollo12     Soil    Unsieved     1102.00         80.24\n",
       "725   60051  Apollo16     Soil        <1mm      195.30         89.25\n",
       "210   14175  Apollo14  Breccia  Fragmental        7.48         92.91\n",
       "125   12062  Apollo12   Basalt    Ilmenite      738.70         97.52"
      ]
     },
     "execution_count": 127,
     "metadata": {},
     "output_type": "execute_result"
    }
   ],
   "source": [
    "rock_samples.sample(9) #랜덤으로 샘플 뽑아줌"
   ]
  },
  {
   "cell_type": "code",
   "execution_count": 128,
   "id": "6b0490f2",
   "metadata": {},
   "outputs": [
    {
     "data": {
      "text/plain": [
       "(2229, 6)"
      ]
     },
     "execution_count": 128,
     "metadata": {},
     "output_type": "execute_result"
    }
   ],
   "source": [
    "rock_samples.shape"
   ]
  },
  {
   "cell_type": "code",
   "execution_count": 129,
   "id": "df6307bb",
   "metadata": {},
   "outputs": [
    {
     "data": {
      "text/plain": [
       "Index(['ID', 'Mission', 'Type', 'Subtype', 'Weight (g)', 'Pristine (%)'], dtype='object')"
      ]
     },
     "execution_count": 129,
     "metadata": {},
     "output_type": "execute_result"
    }
   ],
   "source": [
    "rock_samples.columns"
   ]
  },
  {
   "cell_type": "code",
   "execution_count": 130,
   "id": "7c4e021f",
   "metadata": {},
   "outputs": [
    {
     "data": {
      "text/plain": [
       "ID                int64\n",
       "Mission          object\n",
       "Type             object\n",
       "Subtype          object\n",
       "Weight (g)      float64\n",
       "Pristine (%)    float64\n",
       "dtype: object"
      ]
     },
     "execution_count": 130,
     "metadata": {},
     "output_type": "execute_result"
    }
   ],
   "source": [
    "rock_samples.dtypes"
   ]
  },
  {
   "cell_type": "code",
   "execution_count": 131,
   "id": "8c93d5e1",
   "metadata": {},
   "outputs": [
    {
     "data": {
      "text/plain": [
       "ID              0\n",
       "Mission         0\n",
       "Type            0\n",
       "Subtype         3\n",
       "Weight (g)      0\n",
       "Pristine (%)    0\n",
       "dtype: int64"
      ]
     },
     "execution_count": 131,
     "metadata": {},
     "output_type": "execute_result"
    }
   ],
   "source": [
    "rock_samples.isnull().sum()"
   ]
  },
  {
   "cell_type": "code",
   "execution_count": 132,
   "id": "19eb393d",
   "metadata": {},
   "outputs": [
    {
     "data": {
      "text/html": [
       "<div>\n",
       "<style scoped>\n",
       "    .dataframe tbody tr th:only-of-type {\n",
       "        vertical-align: middle;\n",
       "    }\n",
       "\n",
       "    .dataframe tbody tr th {\n",
       "        vertical-align: top;\n",
       "    }\n",
       "\n",
       "    .dataframe thead th {\n",
       "        text-align: right;\n",
       "    }\n",
       "</style>\n",
       "<table border=\"1\" class=\"dataframe\">\n",
       "  <thead>\n",
       "    <tr style=\"text-align: right;\">\n",
       "      <th></th>\n",
       "      <th>ID</th>\n",
       "      <th>Mission</th>\n",
       "      <th>Type</th>\n",
       "      <th>Subtype</th>\n",
       "      <th>Weight (g)</th>\n",
       "      <th>Pristine (%)</th>\n",
       "    </tr>\n",
       "  </thead>\n",
       "  <tbody>\n",
       "    <tr>\n",
       "      <th>89</th>\n",
       "      <td>12023</td>\n",
       "      <td>Apollo12</td>\n",
       "      <td>Special</td>\n",
       "      <td>NaN</td>\n",
       "      <td>407.90</td>\n",
       "      <td>66.89</td>\n",
       "    </tr>\n",
       "    <tr>\n",
       "      <th>355</th>\n",
       "      <td>15014</td>\n",
       "      <td>Apollo15</td>\n",
       "      <td>Special</td>\n",
       "      <td>NaN</td>\n",
       "      <td>333.20</td>\n",
       "      <td>100.00</td>\n",
       "    </tr>\n",
       "    <tr>\n",
       "      <th>1513</th>\n",
       "      <td>70149</td>\n",
       "      <td>Apollo17</td>\n",
       "      <td>Basalt</td>\n",
       "      <td>NaN</td>\n",
       "      <td>0.95</td>\n",
       "      <td>0.00</td>\n",
       "    </tr>\n",
       "  </tbody>\n",
       "</table>\n",
       "</div>"
      ],
      "text/plain": [
       "         ID   Mission     Type Subtype  Weight (g)  Pristine (%)\n",
       "89    12023  Apollo12  Special     NaN      407.90         66.89\n",
       "355   15014  Apollo15  Special     NaN      333.20        100.00\n",
       "1513  70149  Apollo17   Basalt     NaN        0.95          0.00"
      ]
     },
     "execution_count": 132,
     "metadata": {},
     "output_type": "execute_result"
    }
   ],
   "source": [
    "rock_samples[rock_samples['Subtype'].isnull()]"
   ]
  },
  {
   "cell_type": "code",
   "execution_count": 133,
   "id": "e56a1ddb",
   "metadata": {},
   "outputs": [
    {
     "data": {
      "text/plain": [
       "array(['Soil', 'Basalt', 'Core', 'Breccia', 'Special', 'Crustal'],\n",
       "      dtype=object)"
      ]
     },
     "execution_count": 133,
     "metadata": {},
     "output_type": "execute_result"
    }
   ],
   "source": [
    "rock_samples['Type'].unique()"
   ]
  },
  {
   "cell_type": "code",
   "execution_count": 134,
   "id": "408f501c",
   "metadata": {},
   "outputs": [
    {
     "data": {
      "text/plain": [
       "array(['Unsieved', 'Ilmenite', 'Regolith', 'Cristobalite', 'Olivine',\n",
       "       'Pigeonite', 'Fragmental', nan, 'Feldspathic', 'Unclassified',\n",
       "       '2-4mm', '1-2mm', '<1mm', '4-10mm', '>10mm', 'ImpactMelt', 'KREEP',\n",
       "       'Glass', 'Agglomerate', 'Unstudied', 'Cataclastic', 'Clod',\n",
       "       'Anorthosite', 'unsieved', 'Plagioclase', 'fragmental',\n",
       "       'unstudied', 'notstudied', 'Cataclasite', 'Troctolite', 'Norite',\n",
       "       'Pristine'], dtype=object)"
      ]
     },
     "execution_count": 134,
     "metadata": {},
     "output_type": "execute_result"
    }
   ],
   "source": [
    "rock_samples['Subtype'].unique()"
   ]
  },
  {
   "cell_type": "code",
   "execution_count": 135,
   "id": "cc0963b9",
   "metadata": {},
   "outputs": [
    {
     "data": {
      "text/plain": [
       "Subtype\n",
       "ImpactMelt      393\n",
       "Unsieved        271\n",
       "Regolith        248\n",
       "Fragmental      208\n",
       "Ilmenite        184\n",
       "<1mm            147\n",
       "1-2mm           145\n",
       "4-10mm          145\n",
       "2-4mm           145\n",
       "Olivine         115\n",
       "Anorthosite      41\n",
       "Pigeonite        37\n",
       "Unclassified     24\n",
       "fragmental       21\n",
       "unsieved         17\n",
       "Clod             17\n",
       "Cataclasite      16\n",
       "Agglomerate      10\n",
       "unstudied        10\n",
       "Feldspathic       8\n",
       "Glass             7\n",
       "Norite            4\n",
       "KREEP             3\n",
       "Cataclastic       3\n",
       "Cristobalite      1\n",
       ">10mm             1\n",
       "Unstudied         1\n",
       "notstudied        1\n",
       "Plagioclase       1\n",
       "Troctolite        1\n",
       "Pristine          1\n",
       "Name: count, dtype: int64"
      ]
     },
     "execution_count": 135,
     "metadata": {},
     "output_type": "execute_result"
    }
   ],
   "source": [
    "rock_samples['Subtype'].value_counts()"
   ]
  },
  {
   "cell_type": "markdown",
   "id": "6ba91e85",
   "metadata": {},
   "source": [
    "### type, subtype로 분류해보기\n",
    "- size()는 보기 편하게 해줌"
   ]
  },
  {
   "cell_type": "code",
   "execution_count": 136,
   "id": "6bfb8a89",
   "metadata": {},
   "outputs": [
    {
     "data": {
      "text/plain": [
       "Type     Subtype     \n",
       "Basalt   Cristobalite      1\n",
       "         Feldspathic       7\n",
       "         Ilmenite        184\n",
       "         KREEP             3\n",
       "         Olivine         115\n",
       "         Pigeonite        37\n",
       "         Plagioclase       1\n",
       "         Unclassified      2\n",
       "Breccia  Agglomerate      10\n",
       "         Anorthosite      21\n",
       "         Clod             17\n",
       "         Feldspathic       1\n",
       "         Fragmental      207\n",
       "         Glass             7\n",
       "         ImpactMelt      393\n",
       "         Regolith        248\n",
       "         Unclassified     22\n",
       "         Unstudied         1\n",
       "         fragmental       21\n",
       "         notstudied        1\n",
       "         unstudied        10\n",
       "Core     Unsieved         41\n",
       "         unsieved         15\n",
       "Crustal  Anorthosite      20\n",
       "         Cataclasite      16\n",
       "         Cataclastic       3\n",
       "         Fragmental        1\n",
       "         Norite            4\n",
       "         Pristine          1\n",
       "         Troctolite        1\n",
       "Soil     1-2mm           145\n",
       "         2-4mm           145\n",
       "         4-10mm          145\n",
       "         <1mm            147\n",
       "         >10mm             1\n",
       "         Unsieved        230\n",
       "Special  unsieved          2\n",
       "dtype: int64"
      ]
     },
     "execution_count": 136,
     "metadata": {},
     "output_type": "execute_result"
    }
   ],
   "source": [
    "rock_samples.groupby(['Type', 'Subtype']).size()"
   ]
  },
  {
   "cell_type": "code",
   "execution_count": 137,
   "id": "c2654677",
   "metadata": {},
   "outputs": [],
   "source": [
    "rock_samples['Weight (kg)'] = rock_samples['Weight (g)'] /1000\n",
    "#rock_samples['Weight (g)'] = rock_samples['Weight (g)'].apply(lambda x: x * 0.001)\n",
    "#rock.samples['Weight (g)'].rename(columns={'Weight (g)':'Weight (kg)'})"
   ]
  },
  {
   "cell_type": "markdown",
   "id": "a07ef381",
   "metadata": {},
   "source": [
    "#### rock_samples.columns=[기존 df와 길이가 일치하는 열 이름 리스트 만들어서 넣기]"
   ]
  },
  {
   "cell_type": "code",
   "execution_count": 139,
   "id": "e5f37293",
   "metadata": {},
   "outputs": [
    {
     "data": {
      "text/html": [
       "<div>\n",
       "<style scoped>\n",
       "    .dataframe tbody tr th:only-of-type {\n",
       "        vertical-align: middle;\n",
       "    }\n",
       "\n",
       "    .dataframe tbody tr th {\n",
       "        vertical-align: top;\n",
       "    }\n",
       "\n",
       "    .dataframe thead th {\n",
       "        text-align: right;\n",
       "    }\n",
       "</style>\n",
       "<table border=\"1\" class=\"dataframe\">\n",
       "  <thead>\n",
       "    <tr style=\"text-align: right;\">\n",
       "      <th></th>\n",
       "      <th>ID</th>\n",
       "      <th>Mission</th>\n",
       "      <th>Type</th>\n",
       "      <th>Subtype</th>\n",
       "      <th>Weight (g)</th>\n",
       "      <th>Pristine (%)</th>\n",
       "      <th>Weight (kg)</th>\n",
       "    </tr>\n",
       "  </thead>\n",
       "  <tbody>\n",
       "    <tr>\n",
       "      <th>0</th>\n",
       "      <td>10001</td>\n",
       "      <td>Apollo11</td>\n",
       "      <td>Soil</td>\n",
       "      <td>Unsieved</td>\n",
       "      <td>125.80</td>\n",
       "      <td>88.36</td>\n",
       "      <td>0.12580</td>\n",
       "    </tr>\n",
       "    <tr>\n",
       "      <th>1</th>\n",
       "      <td>10002</td>\n",
       "      <td>Apollo11</td>\n",
       "      <td>Soil</td>\n",
       "      <td>Unsieved</td>\n",
       "      <td>5629.00</td>\n",
       "      <td>93.73</td>\n",
       "      <td>5.62900</td>\n",
       "    </tr>\n",
       "    <tr>\n",
       "      <th>2</th>\n",
       "      <td>10003</td>\n",
       "      <td>Apollo11</td>\n",
       "      <td>Basalt</td>\n",
       "      <td>Ilmenite</td>\n",
       "      <td>213.00</td>\n",
       "      <td>65.56</td>\n",
       "      <td>0.21300</td>\n",
       "    </tr>\n",
       "    <tr>\n",
       "      <th>3</th>\n",
       "      <td>10004</td>\n",
       "      <td>Apollo11</td>\n",
       "      <td>Core</td>\n",
       "      <td>Unsieved</td>\n",
       "      <td>44.80</td>\n",
       "      <td>71.76</td>\n",
       "      <td>0.04480</td>\n",
       "    </tr>\n",
       "    <tr>\n",
       "      <th>4</th>\n",
       "      <td>10005</td>\n",
       "      <td>Apollo11</td>\n",
       "      <td>Core</td>\n",
       "      <td>Unsieved</td>\n",
       "      <td>53.40</td>\n",
       "      <td>40.31</td>\n",
       "      <td>0.05340</td>\n",
       "    </tr>\n",
       "    <tr>\n",
       "      <th>...</th>\n",
       "      <td>...</td>\n",
       "      <td>...</td>\n",
       "      <td>...</td>\n",
       "      <td>...</td>\n",
       "      <td>...</td>\n",
       "      <td>...</td>\n",
       "      <td>...</td>\n",
       "    </tr>\n",
       "    <tr>\n",
       "      <th>2224</th>\n",
       "      <td>79528</td>\n",
       "      <td>Apollo17</td>\n",
       "      <td>Breccia</td>\n",
       "      <td>Regolith</td>\n",
       "      <td>2.38</td>\n",
       "      <td>100.00</td>\n",
       "      <td>0.00238</td>\n",
       "    </tr>\n",
       "    <tr>\n",
       "      <th>2225</th>\n",
       "      <td>79529</td>\n",
       "      <td>Apollo17</td>\n",
       "      <td>Breccia</td>\n",
       "      <td>Regolith</td>\n",
       "      <td>1.84</td>\n",
       "      <td>100.00</td>\n",
       "      <td>0.00184</td>\n",
       "    </tr>\n",
       "    <tr>\n",
       "      <th>2226</th>\n",
       "      <td>79535</td>\n",
       "      <td>Apollo17</td>\n",
       "      <td>Breccia</td>\n",
       "      <td>Regolith</td>\n",
       "      <td>1.69</td>\n",
       "      <td>100.00</td>\n",
       "      <td>0.00169</td>\n",
       "    </tr>\n",
       "    <tr>\n",
       "      <th>2227</th>\n",
       "      <td>79536</td>\n",
       "      <td>Apollo17</td>\n",
       "      <td>Breccia</td>\n",
       "      <td>Regolith</td>\n",
       "      <td>1.66</td>\n",
       "      <td>100.00</td>\n",
       "      <td>0.00166</td>\n",
       "    </tr>\n",
       "    <tr>\n",
       "      <th>2228</th>\n",
       "      <td>79537</td>\n",
       "      <td>Apollo17</td>\n",
       "      <td>Breccia</td>\n",
       "      <td>Regolith</td>\n",
       "      <td>1.05</td>\n",
       "      <td>100.00</td>\n",
       "      <td>0.00105</td>\n",
       "    </tr>\n",
       "  </tbody>\n",
       "</table>\n",
       "<p>2229 rows × 7 columns</p>\n",
       "</div>"
      ],
      "text/plain": [
       "         ID   Mission     Type   Subtype  Weight (g)  Pristine (%)  \\\n",
       "0     10001  Apollo11     Soil  Unsieved      125.80         88.36   \n",
       "1     10002  Apollo11     Soil  Unsieved     5629.00         93.73   \n",
       "2     10003  Apollo11   Basalt  Ilmenite      213.00         65.56   \n",
       "3     10004  Apollo11     Core  Unsieved       44.80         71.76   \n",
       "4     10005  Apollo11     Core  Unsieved       53.40         40.31   \n",
       "...     ...       ...      ...       ...         ...           ...   \n",
       "2224  79528  Apollo17  Breccia  Regolith        2.38        100.00   \n",
       "2225  79529  Apollo17  Breccia  Regolith        1.84        100.00   \n",
       "2226  79535  Apollo17  Breccia  Regolith        1.69        100.00   \n",
       "2227  79536  Apollo17  Breccia  Regolith        1.66        100.00   \n",
       "2228  79537  Apollo17  Breccia  Regolith        1.05        100.00   \n",
       "\n",
       "      Weight (kg)  \n",
       "0         0.12580  \n",
       "1         5.62900  \n",
       "2         0.21300  \n",
       "3         0.04480  \n",
       "4         0.05340  \n",
       "...           ...  \n",
       "2224      0.00238  \n",
       "2225      0.00184  \n",
       "2226      0.00169  \n",
       "2227      0.00166  \n",
       "2228      0.00105  \n",
       "\n",
       "[2229 rows x 7 columns]"
      ]
     },
     "execution_count": 139,
     "metadata": {},
     "output_type": "execute_result"
    }
   ],
   "source": [
    "rock_samples"
   ]
  },
  {
   "cell_type": "code",
   "execution_count": 140,
   "id": "d443a8d6",
   "metadata": {},
   "outputs": [
    {
     "data": {
      "text/html": [
       "<div>\n",
       "<style scoped>\n",
       "    .dataframe tbody tr th:only-of-type {\n",
       "        vertical-align: middle;\n",
       "    }\n",
       "\n",
       "    .dataframe tbody tr th {\n",
       "        vertical-align: top;\n",
       "    }\n",
       "\n",
       "    .dataframe thead th {\n",
       "        text-align: right;\n",
       "    }\n",
       "</style>\n",
       "<table border=\"1\" class=\"dataframe\">\n",
       "  <thead>\n",
       "    <tr style=\"text-align: right;\">\n",
       "      <th></th>\n",
       "      <th>ID</th>\n",
       "      <th>Mission</th>\n",
       "      <th>Type</th>\n",
       "      <th>Subtype</th>\n",
       "      <th>Pristine (%)</th>\n",
       "      <th>Weight (kg)</th>\n",
       "    </tr>\n",
       "  </thead>\n",
       "  <tbody>\n",
       "    <tr>\n",
       "      <th>0</th>\n",
       "      <td>10001</td>\n",
       "      <td>Apollo11</td>\n",
       "      <td>Soil</td>\n",
       "      <td>Unsieved</td>\n",
       "      <td>88.36</td>\n",
       "      <td>0.12580</td>\n",
       "    </tr>\n",
       "    <tr>\n",
       "      <th>1</th>\n",
       "      <td>10002</td>\n",
       "      <td>Apollo11</td>\n",
       "      <td>Soil</td>\n",
       "      <td>Unsieved</td>\n",
       "      <td>93.73</td>\n",
       "      <td>5.62900</td>\n",
       "    </tr>\n",
       "    <tr>\n",
       "      <th>2</th>\n",
       "      <td>10003</td>\n",
       "      <td>Apollo11</td>\n",
       "      <td>Basalt</td>\n",
       "      <td>Ilmenite</td>\n",
       "      <td>65.56</td>\n",
       "      <td>0.21300</td>\n",
       "    </tr>\n",
       "    <tr>\n",
       "      <th>3</th>\n",
       "      <td>10004</td>\n",
       "      <td>Apollo11</td>\n",
       "      <td>Core</td>\n",
       "      <td>Unsieved</td>\n",
       "      <td>71.76</td>\n",
       "      <td>0.04480</td>\n",
       "    </tr>\n",
       "    <tr>\n",
       "      <th>4</th>\n",
       "      <td>10005</td>\n",
       "      <td>Apollo11</td>\n",
       "      <td>Core</td>\n",
       "      <td>Unsieved</td>\n",
       "      <td>40.31</td>\n",
       "      <td>0.05340</td>\n",
       "    </tr>\n",
       "    <tr>\n",
       "      <th>...</th>\n",
       "      <td>...</td>\n",
       "      <td>...</td>\n",
       "      <td>...</td>\n",
       "      <td>...</td>\n",
       "      <td>...</td>\n",
       "      <td>...</td>\n",
       "    </tr>\n",
       "    <tr>\n",
       "      <th>2224</th>\n",
       "      <td>79528</td>\n",
       "      <td>Apollo17</td>\n",
       "      <td>Breccia</td>\n",
       "      <td>Regolith</td>\n",
       "      <td>100.00</td>\n",
       "      <td>0.00238</td>\n",
       "    </tr>\n",
       "    <tr>\n",
       "      <th>2225</th>\n",
       "      <td>79529</td>\n",
       "      <td>Apollo17</td>\n",
       "      <td>Breccia</td>\n",
       "      <td>Regolith</td>\n",
       "      <td>100.00</td>\n",
       "      <td>0.00184</td>\n",
       "    </tr>\n",
       "    <tr>\n",
       "      <th>2226</th>\n",
       "      <td>79535</td>\n",
       "      <td>Apollo17</td>\n",
       "      <td>Breccia</td>\n",
       "      <td>Regolith</td>\n",
       "      <td>100.00</td>\n",
       "      <td>0.00169</td>\n",
       "    </tr>\n",
       "    <tr>\n",
       "      <th>2227</th>\n",
       "      <td>79536</td>\n",
       "      <td>Apollo17</td>\n",
       "      <td>Breccia</td>\n",
       "      <td>Regolith</td>\n",
       "      <td>100.00</td>\n",
       "      <td>0.00166</td>\n",
       "    </tr>\n",
       "    <tr>\n",
       "      <th>2228</th>\n",
       "      <td>79537</td>\n",
       "      <td>Apollo17</td>\n",
       "      <td>Breccia</td>\n",
       "      <td>Regolith</td>\n",
       "      <td>100.00</td>\n",
       "      <td>0.00105</td>\n",
       "    </tr>\n",
       "  </tbody>\n",
       "</table>\n",
       "<p>2229 rows × 6 columns</p>\n",
       "</div>"
      ],
      "text/plain": [
       "         ID   Mission     Type   Subtype  Pristine (%)  Weight (kg)\n",
       "0     10001  Apollo11     Soil  Unsieved         88.36      0.12580\n",
       "1     10002  Apollo11     Soil  Unsieved         93.73      5.62900\n",
       "2     10003  Apollo11   Basalt  Ilmenite         65.56      0.21300\n",
       "3     10004  Apollo11     Core  Unsieved         71.76      0.04480\n",
       "4     10005  Apollo11     Core  Unsieved         40.31      0.05340\n",
       "...     ...       ...      ...       ...           ...          ...\n",
       "2224  79528  Apollo17  Breccia  Regolith        100.00      0.00238\n",
       "2225  79529  Apollo17  Breccia  Regolith        100.00      0.00184\n",
       "2226  79535  Apollo17  Breccia  Regolith        100.00      0.00169\n",
       "2227  79536  Apollo17  Breccia  Regolith        100.00      0.00166\n",
       "2228  79537  Apollo17  Breccia  Regolith        100.00      0.00105\n",
       "\n",
       "[2229 rows x 6 columns]"
      ]
     },
     "execution_count": 140,
     "metadata": {},
     "output_type": "execute_result"
    }
   ],
   "source": [
    "rock_samples.drop(columns='Weight (g)')"
   ]
  },
  {
   "cell_type": "code",
   "execution_count": 141,
   "id": "72af8b8d",
   "metadata": {},
   "outputs": [],
   "source": [
    "mission= pd.DataFrame()"
   ]
  },
  {
   "cell_type": "code",
   "execution_count": 142,
   "id": "1f0e04d4",
   "metadata": {},
   "outputs": [],
   "source": [
    "mission[\"Mission\"]=rock_samples[\"Mission\"].unique()"
   ]
  },
  {
   "cell_type": "code",
   "execution_count": 143,
   "id": "08e2856c",
   "metadata": {},
   "outputs": [
    {
     "data": {
      "text/html": [
       "<div>\n",
       "<style scoped>\n",
       "    .dataframe tbody tr th:only-of-type {\n",
       "        vertical-align: middle;\n",
       "    }\n",
       "\n",
       "    .dataframe tbody tr th {\n",
       "        vertical-align: top;\n",
       "    }\n",
       "\n",
       "    .dataframe thead th {\n",
       "        text-align: right;\n",
       "    }\n",
       "</style>\n",
       "<table border=\"1\" class=\"dataframe\">\n",
       "  <thead>\n",
       "    <tr style=\"text-align: right;\">\n",
       "      <th></th>\n",
       "      <th>Mission</th>\n",
       "    </tr>\n",
       "  </thead>\n",
       "  <tbody>\n",
       "    <tr>\n",
       "      <th>0</th>\n",
       "      <td>Apollo11</td>\n",
       "    </tr>\n",
       "    <tr>\n",
       "      <th>1</th>\n",
       "      <td>Apollo12</td>\n",
       "    </tr>\n",
       "    <tr>\n",
       "      <th>2</th>\n",
       "      <td>Apollo14</td>\n",
       "    </tr>\n",
       "    <tr>\n",
       "      <th>3</th>\n",
       "      <td>Apollo15</td>\n",
       "    </tr>\n",
       "    <tr>\n",
       "      <th>4</th>\n",
       "      <td>Apollo16</td>\n",
       "    </tr>\n",
       "    <tr>\n",
       "      <th>5</th>\n",
       "      <td>Apollo17</td>\n",
       "    </tr>\n",
       "  </tbody>\n",
       "</table>\n",
       "</div>"
      ],
      "text/plain": [
       "    Mission\n",
       "0  Apollo11\n",
       "1  Apollo12\n",
       "2  Apollo14\n",
       "3  Apollo15\n",
       "4  Apollo16\n",
       "5  Apollo17"
      ]
     },
     "execution_count": 143,
     "metadata": {},
     "output_type": "execute_result"
    }
   ],
   "source": [
    "mission"
   ]
  },
  {
   "cell_type": "markdown",
   "id": "f32fcce6",
   "metadata": {},
   "source": [
    "## 아폴로 임무별 샘플 중량 총합"
   ]
  },
  {
   "cell_type": "code",
   "execution_count": 144,
   "id": "32274861",
   "metadata": {},
   "outputs": [],
   "source": [
    "a=rock_samples.groupby('Mission')['Weight (kg)'].sum()"
   ]
  },
  {
   "cell_type": "code",
   "execution_count": 145,
   "id": "cee7623e",
   "metadata": {},
   "outputs": [
    {
     "data": {
      "text/plain": [
       "pandas.core.series.Series"
      ]
     },
     "execution_count": 145,
     "metadata": {},
     "output_type": "execute_result"
    }
   ],
   "source": [
    "type(a)"
   ]
  },
  {
   "cell_type": "code",
   "execution_count": 146,
   "id": "7dbddfbb",
   "metadata": {},
   "outputs": [
    {
     "data": {
      "text/plain": [
       "array([ 21.55424,  34.34238,  41.83363,  75.3991 ,  92.46262, 109.44402])"
      ]
     },
     "execution_count": 146,
     "metadata": {},
     "output_type": "execute_result"
    }
   ],
   "source": [
    "a.values"
   ]
  },
  {
   "cell_type": "code",
   "execution_count": 147,
   "id": "f2424f4a",
   "metadata": {},
   "outputs": [],
   "source": [
    "mission['Weight (kg)'] = a.values"
   ]
  },
  {
   "cell_type": "code",
   "execution_count": 148,
   "id": "3aa194c5",
   "metadata": {},
   "outputs": [
    {
     "ename": "KeyError",
     "evalue": "\"['total_Weight(kg)'] not found in axis\"",
     "output_type": "error",
     "traceback": [
      "\u001b[31m---------------------------------------------------------------------------\u001b[39m",
      "\u001b[31mKeyError\u001b[39m                                  Traceback (most recent call last)",
      "\u001b[36mCell\u001b[39m\u001b[36m \u001b[39m\u001b[32mIn[148]\u001b[39m\u001b[32m, line 1\u001b[39m\n\u001b[32m----> \u001b[39m\u001b[32m1\u001b[39m mission=\u001b[43mmission\u001b[49m\u001b[43m.\u001b[49m\u001b[43mdrop\u001b[49m\u001b[43m(\u001b[49m\u001b[43mcolumns\u001b[49m\u001b[43m=\u001b[49m\u001b[33;43m'\u001b[39;49m\u001b[33;43mtotal_Weight(kg)\u001b[39;49m\u001b[33;43m'\u001b[39;49m\u001b[43m)\u001b[49m\n",
      "\u001b[36mFile \u001b[39m\u001b[32mc:\\Users\\USER\\AppData\\Local\\Programs\\Python\\Python311\\Lib\\site-packages\\pandas\\core\\frame.py:5588\u001b[39m, in \u001b[36mDataFrame.drop\u001b[39m\u001b[34m(self, labels, axis, index, columns, level, inplace, errors)\u001b[39m\n\u001b[32m   5440\u001b[39m \u001b[38;5;28;01mdef\u001b[39;00m\u001b[38;5;250m \u001b[39m\u001b[34mdrop\u001b[39m(\n\u001b[32m   5441\u001b[39m     \u001b[38;5;28mself\u001b[39m,\n\u001b[32m   5442\u001b[39m     labels: IndexLabel | \u001b[38;5;28;01mNone\u001b[39;00m = \u001b[38;5;28;01mNone\u001b[39;00m,\n\u001b[32m   (...)\u001b[39m\u001b[32m   5449\u001b[39m     errors: IgnoreRaise = \u001b[33m\"\u001b[39m\u001b[33mraise\u001b[39m\u001b[33m\"\u001b[39m,\n\u001b[32m   5450\u001b[39m ) -> DataFrame | \u001b[38;5;28;01mNone\u001b[39;00m:\n\u001b[32m   5451\u001b[39m \u001b[38;5;250m    \u001b[39m\u001b[33;03m\"\"\"\u001b[39;00m\n\u001b[32m   5452\u001b[39m \u001b[33;03m    Drop specified labels from rows or columns.\u001b[39;00m\n\u001b[32m   5453\u001b[39m \n\u001b[32m   (...)\u001b[39m\u001b[32m   5586\u001b[39m \u001b[33;03m            weight  1.0     0.8\u001b[39;00m\n\u001b[32m   5587\u001b[39m \u001b[33;03m    \"\"\"\u001b[39;00m\n\u001b[32m-> \u001b[39m\u001b[32m5588\u001b[39m     \u001b[38;5;28;01mreturn\u001b[39;00m \u001b[38;5;28;43msuper\u001b[39;49m\u001b[43m(\u001b[49m\u001b[43m)\u001b[49m\u001b[43m.\u001b[49m\u001b[43mdrop\u001b[49m\u001b[43m(\u001b[49m\n\u001b[32m   5589\u001b[39m \u001b[43m        \u001b[49m\u001b[43mlabels\u001b[49m\u001b[43m=\u001b[49m\u001b[43mlabels\u001b[49m\u001b[43m,\u001b[49m\n\u001b[32m   5590\u001b[39m \u001b[43m        \u001b[49m\u001b[43maxis\u001b[49m\u001b[43m=\u001b[49m\u001b[43maxis\u001b[49m\u001b[43m,\u001b[49m\n\u001b[32m   5591\u001b[39m \u001b[43m        \u001b[49m\u001b[43mindex\u001b[49m\u001b[43m=\u001b[49m\u001b[43mindex\u001b[49m\u001b[43m,\u001b[49m\n\u001b[32m   5592\u001b[39m \u001b[43m        \u001b[49m\u001b[43mcolumns\u001b[49m\u001b[43m=\u001b[49m\u001b[43mcolumns\u001b[49m\u001b[43m,\u001b[49m\n\u001b[32m   5593\u001b[39m \u001b[43m        \u001b[49m\u001b[43mlevel\u001b[49m\u001b[43m=\u001b[49m\u001b[43mlevel\u001b[49m\u001b[43m,\u001b[49m\n\u001b[32m   5594\u001b[39m \u001b[43m        \u001b[49m\u001b[43minplace\u001b[49m\u001b[43m=\u001b[49m\u001b[43minplace\u001b[49m\u001b[43m,\u001b[49m\n\u001b[32m   5595\u001b[39m \u001b[43m        \u001b[49m\u001b[43merrors\u001b[49m\u001b[43m=\u001b[49m\u001b[43merrors\u001b[49m\u001b[43m,\u001b[49m\n\u001b[32m   5596\u001b[39m \u001b[43m    \u001b[49m\u001b[43m)\u001b[49m\n",
      "\u001b[36mFile \u001b[39m\u001b[32mc:\\Users\\USER\\AppData\\Local\\Programs\\Python\\Python311\\Lib\\site-packages\\pandas\\core\\generic.py:4807\u001b[39m, in \u001b[36mNDFrame.drop\u001b[39m\u001b[34m(self, labels, axis, index, columns, level, inplace, errors)\u001b[39m\n\u001b[32m   4805\u001b[39m \u001b[38;5;28;01mfor\u001b[39;00m axis, labels \u001b[38;5;129;01min\u001b[39;00m axes.items():\n\u001b[32m   4806\u001b[39m     \u001b[38;5;28;01mif\u001b[39;00m labels \u001b[38;5;129;01mis\u001b[39;00m \u001b[38;5;129;01mnot\u001b[39;00m \u001b[38;5;28;01mNone\u001b[39;00m:\n\u001b[32m-> \u001b[39m\u001b[32m4807\u001b[39m         obj = \u001b[43mobj\u001b[49m\u001b[43m.\u001b[49m\u001b[43m_drop_axis\u001b[49m\u001b[43m(\u001b[49m\u001b[43mlabels\u001b[49m\u001b[43m,\u001b[49m\u001b[43m \u001b[49m\u001b[43maxis\u001b[49m\u001b[43m,\u001b[49m\u001b[43m \u001b[49m\u001b[43mlevel\u001b[49m\u001b[43m=\u001b[49m\u001b[43mlevel\u001b[49m\u001b[43m,\u001b[49m\u001b[43m \u001b[49m\u001b[43merrors\u001b[49m\u001b[43m=\u001b[49m\u001b[43merrors\u001b[49m\u001b[43m)\u001b[49m\n\u001b[32m   4809\u001b[39m \u001b[38;5;28;01mif\u001b[39;00m inplace:\n\u001b[32m   4810\u001b[39m     \u001b[38;5;28mself\u001b[39m._update_inplace(obj)\n",
      "\u001b[36mFile \u001b[39m\u001b[32mc:\\Users\\USER\\AppData\\Local\\Programs\\Python\\Python311\\Lib\\site-packages\\pandas\\core\\generic.py:4849\u001b[39m, in \u001b[36mNDFrame._drop_axis\u001b[39m\u001b[34m(self, labels, axis, level, errors, only_slice)\u001b[39m\n\u001b[32m   4847\u001b[39m         new_axis = axis.drop(labels, level=level, errors=errors)\n\u001b[32m   4848\u001b[39m     \u001b[38;5;28;01melse\u001b[39;00m:\n\u001b[32m-> \u001b[39m\u001b[32m4849\u001b[39m         new_axis = \u001b[43maxis\u001b[49m\u001b[43m.\u001b[49m\u001b[43mdrop\u001b[49m\u001b[43m(\u001b[49m\u001b[43mlabels\u001b[49m\u001b[43m,\u001b[49m\u001b[43m \u001b[49m\u001b[43merrors\u001b[49m\u001b[43m=\u001b[49m\u001b[43merrors\u001b[49m\u001b[43m)\u001b[49m\n\u001b[32m   4850\u001b[39m     indexer = axis.get_indexer(new_axis)\n\u001b[32m   4852\u001b[39m \u001b[38;5;66;03m# Case for non-unique axis\u001b[39;00m\n\u001b[32m   4853\u001b[39m \u001b[38;5;28;01melse\u001b[39;00m:\n",
      "\u001b[36mFile \u001b[39m\u001b[32mc:\\Users\\USER\\AppData\\Local\\Programs\\Python\\Python311\\Lib\\site-packages\\pandas\\core\\indexes\\base.py:7136\u001b[39m, in \u001b[36mIndex.drop\u001b[39m\u001b[34m(self, labels, errors)\u001b[39m\n\u001b[32m   7134\u001b[39m \u001b[38;5;28;01mif\u001b[39;00m mask.any():\n\u001b[32m   7135\u001b[39m     \u001b[38;5;28;01mif\u001b[39;00m errors != \u001b[33m\"\u001b[39m\u001b[33mignore\u001b[39m\u001b[33m\"\u001b[39m:\n\u001b[32m-> \u001b[39m\u001b[32m7136\u001b[39m         \u001b[38;5;28;01mraise\u001b[39;00m \u001b[38;5;167;01mKeyError\u001b[39;00m(\u001b[33mf\u001b[39m\u001b[33m\"\u001b[39m\u001b[38;5;132;01m{\u001b[39;00mlabels[mask].tolist()\u001b[38;5;132;01m}\u001b[39;00m\u001b[33m not found in axis\u001b[39m\u001b[33m\"\u001b[39m)\n\u001b[32m   7137\u001b[39m     indexer = indexer[~mask]\n\u001b[32m   7138\u001b[39m \u001b[38;5;28;01mreturn\u001b[39;00m \u001b[38;5;28mself\u001b[39m.delete(indexer)\n",
      "\u001b[31mKeyError\u001b[39m: \"['total_Weight(kg)'] not found in axis\""
     ]
    }
   ],
   "source": [
    "mission=mission.drop(columns='total_Weight(kg)')"
   ]
  },
  {
   "cell_type": "code",
   "execution_count": 149,
   "id": "97032245",
   "metadata": {},
   "outputs": [],
   "source": [
    "mission=mission.rename(columns={'Weight (kg)':'Sample_Weight (kg)'})"
   ]
  },
  {
   "cell_type": "markdown",
   "id": "ece1826f",
   "metadata": {},
   "source": [
    "### 임무간 중량 차이 구하기"
   ]
  },
  {
   "cell_type": "code",
   "execution_count": 150,
   "id": "b1e39fc8",
   "metadata": {},
   "outputs": [],
   "source": [
    "mission['Weight_diff']=mission['Sample_Weight (kg)'].diff()"
   ]
  },
  {
   "cell_type": "code",
   "execution_count": 151,
   "id": "9cb82d60",
   "metadata": {},
   "outputs": [
    {
     "name": "stderr",
     "output_type": "stream",
     "text": [
      "C:\\Users\\USER\\AppData\\Local\\Temp\\ipykernel_4336\\4150101196.py:1: FutureWarning: A value is trying to be set on a copy of a DataFrame or Series through chained assignment using an inplace method.\n",
      "The behavior will change in pandas 3.0. This inplace method will never work because the intermediate object on which we are setting values always behaves as a copy.\n",
      "\n",
      "For example, when doing 'df[col].method(value, inplace=True)', try using 'df.method({col: value}, inplace=True)' or df[col] = df[col].method(value) instead, to perform the operation inplace on the original object.\n",
      "\n",
      "\n",
      "  misson=mission['Weight_diff'].fillna(value=0, inplace=True)\n"
     ]
    }
   ],
   "source": [
    "misson=mission['Weight_diff'].fillna(value=0, inplace=True)"
   ]
  },
  {
   "cell_type": "code",
   "execution_count": 152,
   "id": "44a2b78f",
   "metadata": {},
   "outputs": [
    {
     "data": {
      "text/html": [
       "<div>\n",
       "<style scoped>\n",
       "    .dataframe tbody tr th:only-of-type {\n",
       "        vertical-align: middle;\n",
       "    }\n",
       "\n",
       "    .dataframe tbody tr th {\n",
       "        vertical-align: top;\n",
       "    }\n",
       "\n",
       "    .dataframe thead th {\n",
       "        text-align: right;\n",
       "    }\n",
       "</style>\n",
       "<table border=\"1\" class=\"dataframe\">\n",
       "  <thead>\n",
       "    <tr style=\"text-align: right;\">\n",
       "      <th></th>\n",
       "      <th>Mission</th>\n",
       "      <th>Sample_Weight (kg)</th>\n",
       "      <th>Weight_diff</th>\n",
       "    </tr>\n",
       "  </thead>\n",
       "  <tbody>\n",
       "    <tr>\n",
       "      <th>0</th>\n",
       "      <td>Apollo11</td>\n",
       "      <td>21.55424</td>\n",
       "      <td>0.00000</td>\n",
       "    </tr>\n",
       "    <tr>\n",
       "      <th>1</th>\n",
       "      <td>Apollo12</td>\n",
       "      <td>34.34238</td>\n",
       "      <td>12.78814</td>\n",
       "    </tr>\n",
       "    <tr>\n",
       "      <th>2</th>\n",
       "      <td>Apollo14</td>\n",
       "      <td>41.83363</td>\n",
       "      <td>7.49125</td>\n",
       "    </tr>\n",
       "    <tr>\n",
       "      <th>3</th>\n",
       "      <td>Apollo15</td>\n",
       "      <td>75.39910</td>\n",
       "      <td>33.56547</td>\n",
       "    </tr>\n",
       "    <tr>\n",
       "      <th>4</th>\n",
       "      <td>Apollo16</td>\n",
       "      <td>92.46262</td>\n",
       "      <td>17.06352</td>\n",
       "    </tr>\n",
       "    <tr>\n",
       "      <th>5</th>\n",
       "      <td>Apollo17</td>\n",
       "      <td>109.44402</td>\n",
       "      <td>16.98140</td>\n",
       "    </tr>\n",
       "  </tbody>\n",
       "</table>\n",
       "</div>"
      ],
      "text/plain": [
       "    Mission  Sample_Weight (kg)  Weight_diff\n",
       "0  Apollo11            21.55424      0.00000\n",
       "1  Apollo12            34.34238     12.78814\n",
       "2  Apollo14            41.83363      7.49125\n",
       "3  Apollo15            75.39910     33.56547\n",
       "4  Apollo16            92.46262     17.06352\n",
       "5  Apollo17           109.44402     16.98140"
      ]
     },
     "execution_count": 152,
     "metadata": {},
     "output_type": "execute_result"
    }
   ],
   "source": [
    "mission"
   ]
  },
  {
   "cell_type": "markdown",
   "id": "91168497",
   "metadata": {},
   "source": [
    "### 달 모듈의 이름, 중량 컬럼을 mission에 추가\n",
    "- 달 모듈과 명령 모듈이 있고 이 두가지를 일컫어 승무원 어쩌구라고 한다."
   ]
  },
  {
   "cell_type": "markdown",
   "id": "01487b98",
   "metadata": {},
   "source": []
  },
  {
   "cell_type": "code",
   "execution_count": 153,
   "id": "80e351e7",
   "metadata": {},
   "outputs": [],
   "source": [
    "달모듈이름 = ['Eagle (LM-5)', 'Intrepid (LM-6)', 'Antares (LM-8)', 'Falcon (LM-10)', 'Orion (LM-11)', 'Challenger (LM-12)']\n",
    "달모듈중량 = [15103, 15235, 15264, 16430, 16445, 16456]"
   ]
  },
  {
   "cell_type": "code",
   "execution_count": 154,
   "id": "06c62c0d",
   "metadata": {},
   "outputs": [
    {
     "data": {
      "text/html": [
       "<div>\n",
       "<style scoped>\n",
       "    .dataframe tbody tr th:only-of-type {\n",
       "        vertical-align: middle;\n",
       "    }\n",
       "\n",
       "    .dataframe tbody tr th {\n",
       "        vertical-align: top;\n",
       "    }\n",
       "\n",
       "    .dataframe thead th {\n",
       "        text-align: right;\n",
       "    }\n",
       "</style>\n",
       "<table border=\"1\" class=\"dataframe\">\n",
       "  <thead>\n",
       "    <tr style=\"text-align: right;\">\n",
       "      <th></th>\n",
       "      <th>Mission</th>\n",
       "      <th>Sample_Weight (kg)</th>\n",
       "      <th>Weight_diff</th>\n",
       "      <th>Lunar module (LM)</th>\n",
       "      <th>LM mass (kg)</th>\n",
       "    </tr>\n",
       "  </thead>\n",
       "  <tbody>\n",
       "    <tr>\n",
       "      <th>0</th>\n",
       "      <td>Apollo11</td>\n",
       "      <td>21.55424</td>\n",
       "      <td>0.00000</td>\n",
       "      <td>Eagle (LM-5)</td>\n",
       "      <td>15103</td>\n",
       "    </tr>\n",
       "    <tr>\n",
       "      <th>1</th>\n",
       "      <td>Apollo12</td>\n",
       "      <td>34.34238</td>\n",
       "      <td>12.78814</td>\n",
       "      <td>Intrepid (LM-6)</td>\n",
       "      <td>15235</td>\n",
       "    </tr>\n",
       "    <tr>\n",
       "      <th>2</th>\n",
       "      <td>Apollo14</td>\n",
       "      <td>41.83363</td>\n",
       "      <td>7.49125</td>\n",
       "      <td>Antares (LM-8)</td>\n",
       "      <td>15264</td>\n",
       "    </tr>\n",
       "    <tr>\n",
       "      <th>3</th>\n",
       "      <td>Apollo15</td>\n",
       "      <td>75.39910</td>\n",
       "      <td>33.56547</td>\n",
       "      <td>Falcon (LM-10)</td>\n",
       "      <td>16430</td>\n",
       "    </tr>\n",
       "    <tr>\n",
       "      <th>4</th>\n",
       "      <td>Apollo16</td>\n",
       "      <td>92.46262</td>\n",
       "      <td>17.06352</td>\n",
       "      <td>Orion (LM-11)</td>\n",
       "      <td>16445</td>\n",
       "    </tr>\n",
       "    <tr>\n",
       "      <th>5</th>\n",
       "      <td>Apollo17</td>\n",
       "      <td>109.44402</td>\n",
       "      <td>16.98140</td>\n",
       "      <td>Challenger (LM-12)</td>\n",
       "      <td>16456</td>\n",
       "    </tr>\n",
       "  </tbody>\n",
       "</table>\n",
       "</div>"
      ],
      "text/plain": [
       "    Mission  Sample_Weight (kg)  Weight_diff   Lunar module (LM)  LM mass (kg)\n",
       "0  Apollo11            21.55424      0.00000        Eagle (LM-5)         15103\n",
       "1  Apollo12            34.34238     12.78814     Intrepid (LM-6)         15235\n",
       "2  Apollo14            41.83363      7.49125      Antares (LM-8)         15264\n",
       "3  Apollo15            75.39910     33.56547      Falcon (LM-10)         16430\n",
       "4  Apollo16            92.46262     17.06352       Orion (LM-11)         16445\n",
       "5  Apollo17           109.44402     16.98140  Challenger (LM-12)         16456"
      ]
     },
     "execution_count": 154,
     "metadata": {},
     "output_type": "execute_result"
    }
   ],
   "source": [
    "mission['Lunar module (LM)'] = 달모듈이름\n",
    "mission['LM mass (kg)'] = 달모듈중량\n",
    "mission"
   ]
  },
  {
   "cell_type": "code",
   "execution_count": 164,
   "id": "f895f2d8",
   "metadata": {},
   "outputs": [],
   "source": [
    "mission['LM mass diff']=mission['LM mass (kg)'].diff()"
   ]
  },
  {
   "cell_type": "code",
   "execution_count": 166,
   "id": "bc7826a6",
   "metadata": {},
   "outputs": [
    {
     "name": "stderr",
     "output_type": "stream",
     "text": [
      "C:\\Users\\USER\\AppData\\Local\\Temp\\ipykernel_4336\\1992362754.py:1: FutureWarning: A value is trying to be set on a copy of a DataFrame or Series through chained assignment using an inplace method.\n",
      "The behavior will change in pandas 3.0. This inplace method will never work because the intermediate object on which we are setting values always behaves as a copy.\n",
      "\n",
      "For example, when doing 'df[col].method(value, inplace=True)', try using 'df.method({col: value}, inplace=True)' or df[col] = df[col].method(value) instead, to perform the operation inplace on the original object.\n",
      "\n",
      "\n",
      "  mission['LM mass diff'].fillna(value=0, inplace=True)\n"
     ]
    }
   ],
   "source": [
    "mission['LM mass diff'].fillna(value=0, inplace=True)"
   ]
  },
  {
   "cell_type": "code",
   "execution_count": 167,
   "id": "caa68bf8",
   "metadata": {},
   "outputs": [
    {
     "data": {
      "text/html": [
       "<div>\n",
       "<style scoped>\n",
       "    .dataframe tbody tr th:only-of-type {\n",
       "        vertical-align: middle;\n",
       "    }\n",
       "\n",
       "    .dataframe tbody tr th {\n",
       "        vertical-align: top;\n",
       "    }\n",
       "\n",
       "    .dataframe thead th {\n",
       "        text-align: right;\n",
       "    }\n",
       "</style>\n",
       "<table border=\"1\" class=\"dataframe\">\n",
       "  <thead>\n",
       "    <tr style=\"text-align: right;\">\n",
       "      <th></th>\n",
       "      <th>Mission</th>\n",
       "      <th>Sample_Weight (kg)</th>\n",
       "      <th>Weight_diff</th>\n",
       "      <th>Lunar module (LM)</th>\n",
       "      <th>LM mass (kg)</th>\n",
       "      <th>LM mass diff</th>\n",
       "    </tr>\n",
       "  </thead>\n",
       "  <tbody>\n",
       "    <tr>\n",
       "      <th>0</th>\n",
       "      <td>Apollo11</td>\n",
       "      <td>21.55424</td>\n",
       "      <td>0.00000</td>\n",
       "      <td>Eagle (LM-5)</td>\n",
       "      <td>15103</td>\n",
       "      <td>0.0</td>\n",
       "    </tr>\n",
       "    <tr>\n",
       "      <th>1</th>\n",
       "      <td>Apollo12</td>\n",
       "      <td>34.34238</td>\n",
       "      <td>12.78814</td>\n",
       "      <td>Intrepid (LM-6)</td>\n",
       "      <td>15235</td>\n",
       "      <td>132.0</td>\n",
       "    </tr>\n",
       "    <tr>\n",
       "      <th>2</th>\n",
       "      <td>Apollo14</td>\n",
       "      <td>41.83363</td>\n",
       "      <td>7.49125</td>\n",
       "      <td>Antares (LM-8)</td>\n",
       "      <td>15264</td>\n",
       "      <td>29.0</td>\n",
       "    </tr>\n",
       "    <tr>\n",
       "      <th>3</th>\n",
       "      <td>Apollo15</td>\n",
       "      <td>75.39910</td>\n",
       "      <td>33.56547</td>\n",
       "      <td>Falcon (LM-10)</td>\n",
       "      <td>16430</td>\n",
       "      <td>1166.0</td>\n",
       "    </tr>\n",
       "    <tr>\n",
       "      <th>4</th>\n",
       "      <td>Apollo16</td>\n",
       "      <td>92.46262</td>\n",
       "      <td>17.06352</td>\n",
       "      <td>Orion (LM-11)</td>\n",
       "      <td>16445</td>\n",
       "      <td>15.0</td>\n",
       "    </tr>\n",
       "    <tr>\n",
       "      <th>5</th>\n",
       "      <td>Apollo17</td>\n",
       "      <td>109.44402</td>\n",
       "      <td>16.98140</td>\n",
       "      <td>Challenger (LM-12)</td>\n",
       "      <td>16456</td>\n",
       "      <td>11.0</td>\n",
       "    </tr>\n",
       "  </tbody>\n",
       "</table>\n",
       "</div>"
      ],
      "text/plain": [
       "    Mission  Sample_Weight (kg)  Weight_diff   Lunar module (LM)  \\\n",
       "0  Apollo11            21.55424      0.00000        Eagle (LM-5)   \n",
       "1  Apollo12            34.34238     12.78814     Intrepid (LM-6)   \n",
       "2  Apollo14            41.83363      7.49125      Antares (LM-8)   \n",
       "3  Apollo15            75.39910     33.56547      Falcon (LM-10)   \n",
       "4  Apollo16            92.46262     17.06352       Orion (LM-11)   \n",
       "5  Apollo17           109.44402     16.98140  Challenger (LM-12)   \n",
       "\n",
       "   LM mass (kg)  LM mass diff  \n",
       "0         15103           0.0  \n",
       "1         15235         132.0  \n",
       "2         15264          29.0  \n",
       "3         16430        1166.0  \n",
       "4         16445          15.0  \n",
       "5         16456          11.0  "
      ]
     },
     "execution_count": 167,
     "metadata": {},
     "output_type": "execute_result"
    }
   ],
   "source": [
    "mission"
   ]
  },
  {
   "cell_type": "code",
   "execution_count": 180,
   "id": "693198bd",
   "metadata": {},
   "outputs": [],
   "source": [
    "명령모듈이름 = ['Columbia (CSM-107]', 'Yankee Clipper (CM-100])', 'Kitty Hawk (CM-110)', 'Endeavor (CM-112)', 'Casper (CM-113)', 'America (CM-114)']\n",
    "명령모듈중량 = [5560, 5609, 5758, 5875, 5840, 5960]"
   ]
  },
  {
   "cell_type": "code",
   "execution_count": 181,
   "id": "34bb9ae0",
   "metadata": {},
   "outputs": [],
   "source": [
    "mission['Command Module (CM)'] = 명령모듈이름\n",
    "mission['CM Mass (kg)'] = 명령모듈중량"
   ]
  },
  {
   "cell_type": "code",
   "execution_count": 182,
   "id": "11f1f3c0",
   "metadata": {},
   "outputs": [],
   "source": [
    "mission['CM Mass diff']=mission['CM Mass (kg)'].diff()"
   ]
  },
  {
   "cell_type": "code",
   "execution_count": 184,
   "id": "4d9edfc6",
   "metadata": {},
   "outputs": [
    {
     "name": "stderr",
     "output_type": "stream",
     "text": [
      "C:\\Users\\USER\\AppData\\Local\\Temp\\ipykernel_4336\\2128624598.py:1: FutureWarning: A value is trying to be set on a copy of a DataFrame or Series through chained assignment using an inplace method.\n",
      "The behavior will change in pandas 3.0. This inplace method will never work because the intermediate object on which we are setting values always behaves as a copy.\n",
      "\n",
      "For example, when doing 'df[col].method(value, inplace=True)', try using 'df.method({col: value}, inplace=True)' or df[col] = df[col].method(value) instead, to perform the operation inplace on the original object.\n",
      "\n",
      "\n",
      "  mission['CM Mass diff'].fillna(value = 0, inplace=True)\n"
     ]
    }
   ],
   "source": [
    "mission['CM Mass diff'].fillna(value = 0, inplace=True)"
   ]
  },
  {
   "cell_type": "code",
   "execution_count": null,
   "id": "5937ee4f",
   "metadata": {},
   "outputs": [],
   "source": [
    "mission['Total weight (kg)']=mission['LM mass (kg)']+mission['CM Mass (kg)']"
   ]
  },
  {
   "cell_type": "code",
   "execution_count": 192,
   "id": "f8e1615b",
   "metadata": {},
   "outputs": [
    {
     "name": "stderr",
     "output_type": "stream",
     "text": [
      "C:\\Users\\USER\\AppData\\Local\\Temp\\ipykernel_4336\\3435717993.py:2: FutureWarning: A value is trying to be set on a copy of a DataFrame or Series through chained assignment using an inplace method.\n",
      "The behavior will change in pandas 3.0. This inplace method will never work because the intermediate object on which we are setting values always behaves as a copy.\n",
      "\n",
      "For example, when doing 'df[col].method(value, inplace=True)', try using 'df.method({col: value}, inplace=True)' or df[col] = df[col].method(value) instead, to perform the operation inplace on the original object.\n",
      "\n",
      "\n",
      "  mission['Total weight diff'].fillna(value=0, inplace=True)\n"
     ]
    }
   ],
   "source": [
    "mission['Total weight diff']= mission['Total weight (kg)'].diff()\n",
    "mission['Total weight diff'].fillna(value=0, inplace=True)"
   ]
  },
  {
   "cell_type": "markdown",
   "id": "d0b0879b",
   "metadata": {},
   "source": []
  },
  {
   "cell_type": "code",
   "execution_count": null,
   "id": "8caa7677",
   "metadata": {},
   "outputs": [],
   "source": []
  }
 ],
 "metadata": {
  "kernelspec": {
   "display_name": "Python 3",
   "language": "python",
   "name": "python3"
  },
  "language_info": {
   "codemirror_mode": {
    "name": "ipython",
    "version": 3
   },
   "file_extension": ".py",
   "mimetype": "text/x-python",
   "name": "python",
   "nbconvert_exporter": "python",
   "pygments_lexer": "ipython3",
   "version": "3.11.8"
  }
 },
 "nbformat": 4,
 "nbformat_minor": 5
}
